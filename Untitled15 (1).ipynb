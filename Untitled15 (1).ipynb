{
 "cells": [
  {
   "cell_type": "code",
   "execution_count": null,
   "id": "9cbd923a-d462-4be3-93af-66b420a20e68",
   "metadata": {},
   "outputs": [],
   "source": [
    "1. what is multithreading in python? why is it used? Name the module used to handle threads in python?\n",
    "Ans:Multithreading is a programming technique in which multiple threads of execution are created within a single process, allowing for concurrent\n",
    "execution of multiple tasks. In Python, multithreading is achieved through the threading module.\n",
    "\n",
    "Threads are lightweight and allow for faster execution of tasks as they can run concurrently. Multithreading is used to increase the efficiency\n",
    "of a program, especially when dealing with tasks that are I/O bound. For example, when waiting for a network response or reading data from a file,\n",
    "the main thread can continue executing other tasks while waiting for the I/O operation to complete, rather than blocking and waiting\n",
    "for the I/O operation to finish.\n",
    "\n",
    "The threading module in Python provides a simple way to create and manage threads. It allows for creating new threads, starting and\n",
    "stopping them, and synchronizing their execution. The module also provides several synchronization primitives like locks, semaphores, \n",
    "and events, which can be used to coordinate the execution of threads and avoid race conditions."
   ]
  },
  {
   "cell_type": "code",
   "execution_count": null,
   "id": "66a6c335-9796-4788-b706-52d8ca1014ee",
   "metadata": {},
   "outputs": [],
   "source": [
    "2. why threading module used? rite the use of the following functions\n",
    " 1.activeCount\n",
    " 2.currentThread\n",
    " 3.enumerate\n",
    "Ans:The threading module is used in Python to create and manage threads of execution. It provides a simple and efficient way to create and \n",
    "manage multiple threads in a program. The module provides several functions and classes that allow for easy creation and management of threads.\n",
    "\n",
    "Here are the uses of the following functions in the threading module:\n",
    "\n",
    "activeCount() - This function returns the number of thread objects that are currently active in the program. It can be used to keep track \n",
    "of the number of threads in the program and ensure that they are running as expected.\n",
    "\n",
    "currentThread() - This function returns a reference to the thread object representing the current thread of execution. It can be used\n",
    "to get information about the current thread, such as its name and ID.\n",
    "\n",
    "enumerate() - This function returns a list of all thread objects that are currently active in the program. It can be used to get\n",
    "information about all the threads in the program, such as their names and IDs. The enumerate() function is particularly useful when\n",
    "debugging threaded programs or when monitoring the behavior of multiple threads at once."
   ]
  },
  {
   "cell_type": "code",
   "execution_count": null,
   "id": "62a0ba5f-70f5-4212-968c-15f513298204",
   "metadata": {},
   "outputs": [],
   "source": [
    "3.Explain the following functions\n",
    "  run\n",
    " start\n",
    "  join\n",
    " isAlive\n",
    "Ans:\n",
    "run() - This method is called when a thread is started using the start() method. It contains the code that the thread will execute.\n",
    "The run() method can be overridden in a custom thread class to define the behavior of the thread.\n",
    "\n",
    "start() - This method is used to start a thread of execution. It calls the run() method of the thread class to execute the code in \n",
    "a separate thread. Once started, the thread will run independently of the main thread.\n",
    "\n",
    "join() - This method is used to wait for a thread to complete its execution. When the join() method is called on a thread, the \n",
    "calling thread (usually the main thread) will wait until the specified thread completes its execution. This can be used to ensure \n",
    "that the program waits for a specific thread to finish before continuing with its execution.\n",
    "\n",
    "isAlive() - This method is used to check whether a thread is still executing. It returns True if the thread is still running and False \n",
    "otherwise. This can be used to check whether a thread has completed its execution before calling the join() method."
   ]
  },
  {
   "cell_type": "code",
   "execution_count": 2,
   "id": "6719a4c9-435f-4b34-998c-7286a4bbad55",
   "metadata": {},
   "outputs": [
    {
     "name": "stdout",
     "output_type": "stream",
     "text": [
      "Square of 1: 1\n",
      "Square of 2: 4\n",
      "Square of 3: 9\n",
      "Square of 4: 16\n",
      "Square of 5: 25\n",
      "Square of 6: 36\n",
      "Square of 7: 49\n",
      "Square of 8: 64\n",
      "Square of 9: 81\n",
      "Square of 10: 100\n",
      "Cube of 1: 1\n",
      "Cube of 2: 8\n",
      "Cube of 3: 27\n",
      "Cube of 4: 64\n",
      "Cube of 5: 125\n",
      "Cube of 6: 216\n",
      "Cube of 7: 343\n",
      "Cube of 8: 512\n",
      "Cube of 9: 729\n",
      "Cube of 10: 1000\n"
     ]
    }
   ],
   "source": [
    "4. write a python program to create two threads. Thread one must print the list of squares and thread\n",
    "two must print the list of cubes\n",
    "Ans:\n",
    "import threading\n",
    "\n",
    "def print_squares():\n",
    "    for i in range(1, 11):\n",
    "        print(f\"Square of {i}: {i ** 2}\")\n",
    "def print_cubes():\n",
    "    for i in range(1, 11):\n",
    "        print(f\"Cube of {i}: {i ** 3}\")\n",
    "\n",
    "t1 = threading.Thread(target=print_squares)\n",
    "t2 = threading.Thread(target=print_cubes)\n",
    "\n",
    "t1.start()\n",
    "t2.start()\n",
    "\n",
    "t1.join()\n",
    "t2.join()\n"
   ]
  },
  {
   "cell_type": "code",
   "execution_count": null,
   "id": "31ad02bb-92fd-4dac-b5e5-4af94bdaf128",
   "metadata": {},
   "outputs": [],
   "source": [
    "5. State advantages and disadvantages of multithreading?\n",
    "Ans:\n",
    "\n",
    "    Advantages:\n",
    "\n",
    "Increased efficiency: Multithreading can improve the overall performance of a program by utilizing multiple processors or cores. This can result\n",
    "in faster execution of tasks and improved system responsiveness.\n",
    "\n",
    "Improved resource utilization: Multithreading can help a program make better use of system resources such as memory and I/O devices by allowing \n",
    "different threads to perform different tasks simultaneously.\n",
    "\n",
    "Simplified program design: Multithreading can make it easier to design and implement complex programs, as different parts of the program can \n",
    "be divided into separate threads, making the code more modular and easier to maintain.\n",
    "\n",
    "Better user experience: Multithreading can improve the user experience of a program by making it more responsive and less likely to hang or\n",
    "freeze.\n",
    "\n",
    "   Disadvantages:\n",
    "\n",
    "Increased complexity: Multithreading can make a program more complex and difficult to debug, as different threads may interact with each other\n",
    "in unexpected ways.\n",
    "\n",
    "Synchronization issues: Multithreading can introduce synchronization issues, where different threads may access the same data or resources \n",
    "simultaneously, leading to race conditions and other errors.\n",
    "\n",
    "Increased overhead: Multithreading can introduce additional overhead, as the operating system must manage multiple threads of execution, leading\n",
    "to increased memory and CPU usage.\n",
    "\n",
    "Debugging difficulties: Debugging multithreaded programs can be more difficult than single-threaded programs because the exact sequence of events\n",
    "is harder to predict and the timing of events can vary depending on the operating system and other factors."
   ]
  },
  {
   "cell_type": "code",
   "execution_count": null,
   "id": "63ae4c7f-6bc4-44cf-8aa4-c77d1315562c",
   "metadata": {},
   "outputs": [],
   "source": [
    "6. Explain deadlocks and race conditions.\n",
    "Ans:\n",
    "    \n",
    "Deadlock: A deadlock occurs when two or more threads are blocked, waiting for each other to release a resource that they need in order to continue\n",
    "execution. In other words, it is a situation where two or more threads are waiting for each other to finish and release the resources they need,\n",
    "resulting in a situation where none of the threads can proceed. Deadlocks can occur when there are shared resources and threads are unable to\n",
    "release them properly. Deadlocks can cause the program to hang or crash, leading to system instability.\n",
    "\n",
    "Race condition: A race condition occurs when two or more threads access shared resources or data simultaneously and the order of access is not\n",
    "deterministic. In other words, it is a situation where the outcome of the program depends on the order in which the threads are executed. \n",
    "Race conditions can occur when multiple threads modify a shared resource without proper synchronization, leading to unpredictable results. \n",
    "Race conditions can cause data corruption or unexpected behavior in the program."
   ]
  }
 ],
 "metadata": {
  "kernelspec": {
   "display_name": "Python 3 (ipykernel)",
   "language": "python",
   "name": "python3"
  },
  "language_info": {
   "codemirror_mode": {
    "name": "ipython",
    "version": 3
   },
   "file_extension": ".py",
   "mimetype": "text/x-python",
   "name": "python",
   "nbconvert_exporter": "python",
   "pygments_lexer": "ipython3",
   "version": "3.10.8"
  }
 },
 "nbformat": 4,
 "nbformat_minor": 5
}
