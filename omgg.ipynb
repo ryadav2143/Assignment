{
 "cells": [
  {
   "cell_type": "code",
   "execution_count": null,
   "id": "551f3266-2094-406a-b601-bd5e54182ad2",
   "metadata": {},
   "outputs": [],
   "source": [
    "Q1. What are the three measures of central tendency?\n",
    "Ans:\n",
    "Mean: The mean, often referred to as the average, is calculated by adding up all the values in a dataset and then \n",
    "dividing by the total number of values. It represents the balance point of the data distribution.\n",
    "\n",
    "Median: The median is the middle value in a dataset when it's arranged in ascending or descending order. If there \n",
    "is an odd number of values, the median is the middle value itself. If there is an even number of values, the median\n",
    "is the average of the two middle values.\n",
    "\n",
    "Mode: The mode is the value that appears most frequently in a dataset. A dataset can have no mode (when all values \n",
    "are unique), one mode (unimodal), or multiple modes (multimodal) if multiple values appear with the same highest frequency."
   ]
  },
  {
   "cell_type": "code",
   "execution_count": null,
   "id": "3c4764cf-ff7a-4daa-bad1-5da4f3f4440f",
   "metadata": {},
   "outputs": [],
   "source": [
    "Q2. What is the difference between the mean, median, and mode? How are they used to measure the\n",
    "central tendency of a dataset?\n",
    "Ans:\n",
    "Mean:\n",
    "The mean is the sum of all values in a dataset divided by the total number of values.\n",
    "It is sensitive to extreme values (outliers) because it takes into account the magnitude of all values.\n",
    "It provides a balanced view of the data distribution, and it's often used in situations where the distribution\n",
    "is relatively symmetrical and not heavily affected by outliers.\n",
    "Formula: Mean = (Sum of all values) / (Total number of values)\n",
    "\n",
    "Median:\n",
    "The median is the middle value of a dataset when it's arranged in order. If the dataset has an odd number of values,\n",
    "the median is the middle value. If it has an even number of values, the median is the average of the two middle values.\n",
    "It is less affected by extreme values compared to the mean, making it a more robust measure of central tendency in the presence\n",
    "of outliers.\n",
    "It's useful when the distribution is skewed or when there are outliers that could disproportionately influence the mean.\n",
    "Formula (odd number of values): Median = Middle value\n",
    "Formula (even number of values): Median = (Middle value + Next middle value) / 2\n",
    "\n",
    "Mode:\n",
    "The mode is the value that appears most frequently in a dataset.\n",
    "It's useful for identifying the most common value or values in a distribution.\n",
    "It can be used with any type of data, including categorical data.\n",
    "A dataset can have no mode (all values are unique), one mode (unimodal), or multiple modes (multimodal) if more than one\n",
    "value appears with the same highest frequency."
   ]
  },
  {
   "cell_type": "code",
   "execution_count": 6,
   "id": "f1b25c91-26df-48c4-8892-b776e2fc1962",
   "metadata": {},
   "outputs": [
    {
     "name": "stdout",
     "output_type": "stream",
     "text": [
      "177.01875\n",
      "177.0\n",
      "ModeResult(mode=array([177.]), count=array([3]))\n"
     ]
    },
    {
     "name": "stderr",
     "output_type": "stream",
     "text": [
      "/tmp/ipykernel_110/1166990821.py:6: FutureWarning: Unlike other reduction functions (e.g. `skew`, `kurtosis`), the default behavior of `mode` typically preserves the axis it acts along. In SciPy 1.11.0, this behavior will change: the default value of `keepdims` will become False, the `axis` over which the statistic is taken will be eliminated, and the value None will no longer be accepted. Set `keepdims` to True or False to avoid this warning.\n",
      "  print(st.mode(a))\n"
     ]
    }
   ],
   "source": [
    "Q3. Measure the three measures of central tendency for the given height data:\n",
    "[178,177,176,177,178.2,178,175,179,180,175,178.9,176.2,177,172.5,178,176.5]\n",
    "Ans:    \n",
    "import numpy as np\n",
    "from scipy import stats as st\n",
    "a = [178,177,176,177,178.2,178,175,179,180,175,178.9,176.2,177,172.5,178,176.5]\n",
    "print(np.mean(a))\n",
    "print(np.median(a))\n",
    "print(st.mode(a))\n",
    "\n"
   ]
  },
  {
   "cell_type": "code",
   "execution_count": 7,
   "id": "5e9d9931-bda0-4115-944b-2a4bc4588a49",
   "metadata": {},
   "outputs": [
    {
     "data": {
      "text/plain": [
       "1.7885814036548633"
      ]
     },
     "execution_count": 7,
     "metadata": {},
     "output_type": "execute_result"
    }
   ],
   "source": [
    "Q4. Find the standard deviation for the given data:\n",
    "[178,177,176,177,178.2,178,175,179,180,175,178.9,176.2,177,172.5,178,176.5]\n",
    "Ans:\n",
    "a = [178,177,176,177,178.2,178,175,179,180,175,178.9,176.2,177,172.5,178,176.5]\n",
    "np.std(a)"
   ]
  },
  {
   "cell_type": "code",
   "execution_count": null,
   "id": "c5424d30-4ee9-438e-b3b9-387ecbd14655",
   "metadata": {},
   "outputs": [],
   "source": [
    "Q5. How are measures of dispersion such as range, variance, and standard deviation used to describe\n",
    "the spread of a dataset? Provide an example.\n",
    "Ans:\n",
    "\n",
    "Measures of dispersion, such as range, variance, and standard deviation, provide information about how spread out or\n",
    "clustered the values in a dataset are. They help quantify the variability or dispersion of the data points from the \n",
    "central tendency measures (mean, median, mode). Here's how these measures are used to describe the spread of a dataset, \n",
    "along with an example:\n",
    "\n",
    "Range:\n",
    "The range is the simplest measure of dispersion and is calculated as the difference between the maximum and minimum \n",
    "values in the dataset.\n",
    "It gives a rough idea of the spread of the data but can be influenced by outliers.\n",
    "Example:\n",
    "Consider the following dataset of exam scores: 65, 70, 75, 80, 85.\n",
    "Range = Maximum value - Minimum value = 85 - 65 = 20\n",
    "The range of this dataset is 20, indicating that the scores vary by 20 points.\n",
    "\n",
    "Variance:\n",
    "Variance measures the average of the squared differences between each data point and the mean of the dataset.\n",
    "It gives a more comprehensive understanding of the spread by considering the extent of each data point's deviation\n",
    "from the mean.\n",
    "Example:\n",
    "Using the same dataset of exam scores: 65, 70, 75, 80, 85.\n",
    "First, calculate the mean: (65 + 70 + 75 + 80 + 85) / 5 = 75.\n",
    "Then, calculate the squared differences from the mean for each value:\n",
    "(65 - 75)^2 + (70 - 75)^2 + (75 - 75)^2 + (80 - 75)^2 + (85 - 75)^2 = 100 + 25 + 0 + 25 + 100 = 250\n",
    "Variance = Sum of squared differences / Total number of values = 250 / 5 = 50\n",
    "The variance of this dataset is 50.\n",
    "\n",
    "Standard Deviation:\n",
    "The standard deviation is the square root of the variance. It measures the average deviation of data points\n",
    "from the mean in the original units of the data.\n",
    "It's a widely used measure of dispersion that provides a clearer interpretation of the spread compared to the\n",
    "squared differences used in variance.\n",
    "Example:\n",
    "Using the same dataset of exam scores: 65, 70, 75, 80, 85.\n",
    "The variance is 50 (as calculated above).\n",
    "Standard Deviation = √Variance = √50 ≈ 7.07\n",
    "The standard deviation of this dataset is approximately 7.07."
   ]
  },
  {
   "cell_type": "code",
   "execution_count": null,
   "id": "245524fe-f6a7-4ce9-bf57-040414fcf891",
   "metadata": {},
   "outputs": [],
   "source": [
    "Q6. What is a Venn diagram?\n",
    "Ans:\n",
    "    A Venn diagram is a graphical representation that illustrates the relationships and similarities between different\n",
    "    sets or groups of items. It consists of overlapping circles (or other closed curves) that represent the sets, with\n",
    "    the overlapping regions indicating the shared elements between those sets. Venn diagrams are often used to visually\n",
    "    demonstrate concepts of set theory, logic, and relationships among different categories."
   ]
  },
  {
   "cell_type": "code",
   "execution_count": null,
   "id": "c7dd1656-edc2-482f-8a53-4e903e3d4bfd",
   "metadata": {},
   "outputs": [],
   "source": [
    "Q7. For the two given sets A = (2,3,4,5,6,7) & B = (0,2,6,8,10). Find:\n",
    "(i) A intersection B\n",
    "Ans:\n",
    "    inter ={2,6}\n",
    "(ii) A union B\n",
    "Ans:\n",
    "    union={0,2,3,4,5,6,7,8,10}"
   ]
  },
  {
   "cell_type": "code",
   "execution_count": null,
   "id": "c1e1072e-29be-4aea-9fc8-4b549b05070c",
   "metadata": {},
   "outputs": [],
   "source": [
    "Q8. What do you understand about skewness in data?\n",
    "Ans:\n",
    "Skewness in data refers to the asymmetry of the probability distribution of a dataset. It indicates whether the data \n",
    "distribution is skewed or not evenly distributed around its mean. In other words, it describes the extent to which the\n",
    "data values are concentrated on one side of the mean compared to the other side.\n",
    "\n",
    "There are three main types of skewness:\n",
    "\n",
    "Positive Skew (Right Skew):\n",
    "In a positively skewed distribution, the tail on the right side (larger values) is longer than the tail on the left side\n",
    "(smaller values). This means that the majority of data points are concentrated on the left side, and there are few extreme\n",
    "values on the right side.\n",
    "\n",
    "Negative Skew (Left Skew):\n",
    "In a negatively skewed distribution, the tail on the left side (smaller values) is longer than the tail on the right side\n",
    "(larger values). This indicates that the bulk of data points are clustered on the right side, with few extreme values on \n",
    "the left side.\n",
    "\n",
    "Symmetric Distribution (No Skew):\n",
    "In a symmetric distribution, the data values are evenly distributed around the mean, and there is no clear skewness to either\n",
    "side. This means that the left and right tails are roughly equal in length."
   ]
  },
  {
   "cell_type": "code",
   "execution_count": null,
   "id": "0a6b5029-f67a-4799-bff5-bc5b7bc421e5",
   "metadata": {},
   "outputs": [],
   "source": [
    "Q9. If a data is right skewed then what will be the position of median with respect to mean?\n",
    "Ans:\n",
    "In a right-skewed (positively skewed) distribution, the majority of the data points are concentrated on the left side,\n",
    "with a tail that extends toward the right side. This means that there are relatively few but very large values on the \n",
    "right side of the distribution, which can significantly affect the mean and median.\n",
    "\n",
    "In a right-skewed distribution:\n",
    "\n",
    "Mean: The mean is influenced by extreme values, and in a right-skewed distribution, these extreme values (larger values) \n",
    "on the right side can pull the mean in that direction. The mean will be greater than the median.\n",
    "\n",
    "Median: The median represents the middle value when the data is ordered from smallest to largest. In a right-skewed distribution,\n",
    "the larger values on the right side of the distribution can cause the median to be pulled slightly to the right. However,\n",
    "since the median is less sensitive to extreme values compared to the mean, it tends to be closer to the bulk of the data\n",
    "on the left side."
   ]
  },
  {
   "cell_type": "code",
   "execution_count": null,
   "id": "23b44985-c447-4c83-84f2-4dffb8c56ca2",
   "metadata": {},
   "outputs": [],
   "source": [
    "Q10. Explain the difference between covariance and correlation. How are these measures used in\n",
    "statistical analysis?\n",
    "Ans:\n",
    "Covariance and correlation are both measures used in statistics to describe the relationship between two variables.\n",
    "Covariance:\n",
    "Covariance measures the degree to which two variables change together. It indicates whether an increase in one variable \n",
    "corresponds to an increase or decrease in another variable. The formula for covariance between two variables X and Y is:\n",
    "\n",
    "Cov(X, Y) = Σ[(Xᵢ - X̄)(Yᵢ - Ȳ)] / (n - 1)\n",
    "Where:\n",
    "Xᵢ, Yᵢ are individual data points.\n",
    "X̄, Ȳ are the means of X and Y, respectively.\n",
    "n is the number of data points.\n",
    "The sign of covariance indicates the direction of the relationship:\n",
    "\n",
    "Positive covariance: A positive value indicates that as one variable increases, the other tends to increase as well.\n",
    "Negative covariance: A negative value indicates that as one variable increases, the other tends to decrease.\n",
    "\n",
    "However, the magnitude of covariance isn't standardized, making it difficult to interpret the strength of the relationship\n",
    "between variables without context. Additionally, covariance is affected by the scale of the variables, which can make \n",
    "comparisons between different datasets challenging.\n",
    "\n",
    "Correlation:\n",
    "Correlation standardizes the relationship between two variables by scaling the covariance to a range of -1 to 1.\n",
    "It provides a more interpretable measure of the strength and direction of the linear relationship between variables.\n",
    "The formula for the Pearson correlation coefficient, which measures the linear correlation between X and Y, is:\n",
    "\n",
    "ρ(X, Y) = Cov(X, Y) / (σₓ * σᵧ)\n",
    "\n",
    "Where:\n",
    "Cov(X, Y) is the covariance between X and Y.\n",
    "σₓ, σᵧ are the standard deviations of X and Y, respectively.\n",
    "The Pearson correlation coefficient ranges from -1 to 1:\n",
    "\n",
    "+1 indicates a perfect positive linear relationship.\n",
    "-1 indicates a perfect negative linear relationship.\n",
    "0 indicates no linear correlation.\n",
    "Correlation is not affected by the scale of the variables, making it easier to compare relationships between different\n",
    "datasets. It's widely used to assess the strength and direction of linear relationships between variables, which is valuable\n",
    "in fields such as finance, economics, social sciences, and more."
   ]
  },
  {
   "cell_type": "code",
   "execution_count": null,
   "id": "d08a0f88-27be-458f-85d3-2240fbe14b95",
   "metadata": {},
   "outputs": [],
   "source": [
    "Q11. What is the formula for calculating the sample mean? Provide an example calculation for a\n",
    "dataset.\n",
    "Ans:\n",
    "Sample Mean (x̄) = (Sum of all values) / (Total number of values)\n",
    "dataset of exam scores: 80, 85, 90, 70, 95, 75.\n",
    "\n",
    "Step 1: Add up all the values in the dataset.\n",
    "Sum = 80 + 85 + 90 + 70 + 95 + 75 = 495\n",
    "\n",
    "Step 2: Count the total number of values in the dataset.\n",
    "Total number of values = 6\n",
    "\n",
    "Step 3: Plug the values into the formula and calculate the sample mean.\n",
    "x̄ = Sum / Total number of values = 495 / 6 ≈ 82.5\n",
    "\n",
    "So, the sample mean of the given dataset is approximately 82.5. This means that, on average, the exam scores in \n",
    "this dataset are around 82.5."
   ]
  },
  {
   "cell_type": "code",
   "execution_count": null,
   "id": "910ad2ec-923f-49c1-a593-7e3c2dd85cf6",
   "metadata": {},
   "outputs": [],
   "source": [
    "Q12. For a normal distribution data what is the relationship between its measure of central tendency?\n",
    "Ans:\n",
    "    In a normal distribution (also known as a Gaussian distribution or bell curve), the measures of central tendency—mean,\n",
    "    median, and mode—are all equal and located at the same point in the distribution. This is a key characteristic of the \n",
    "    symmetry of the normal distribution.\n",
    "\n",
    "Specifically:\n",
    "\n",
    "Mean: The mean of a normal distribution is located at the center of the distribution. It's the balance point where the data\n",
    "is evenly distributed on both sides of the mean. In a perfectly symmetrical normal distribution, the mean is exactly at the\n",
    "center of the distribution.\n",
    "\n",
    "Median: The median, which is the middle value of the dataset when arranged in order, is also located at the center of a normal\n",
    "distribution. Because the normal distribution is symmetric, the mean and median coincide.\n",
    "\n",
    "Mode: In a normal distribution, every value occurs with the same frequency, and there is no specific mode. This is because the\n",
    "curve is continuous and doesn't have isolated peaks."
   ]
  },
  {
   "cell_type": "code",
   "execution_count": null,
   "id": "1e5952c9-6f43-4a0d-b3ae-6149a7275e5f",
   "metadata": {},
   "outputs": [],
   "source": [
    "Q13. How is covariance different from correlation?\n",
    "Ans:\n",
    "    Covariance measures the direction of linear relationship between variables, while correlation also measures the strength\n",
    "    of this relationship, standardizing it within a range of -1 to 1. Covariance isn't scaled and lacks standardized\n",
    "    interpretation, while correlation is unitless and easier to compare across datasets due to its standardized range."
   ]
  },
  {
   "cell_type": "code",
   "execution_count": null,
   "id": "61d3f74c-0a65-4114-899f-54e19f6fda1a",
   "metadata": {},
   "outputs": [],
   "source": [
    "Q14. How do outliers affect measures of central tendency and dispersion? Provide an example.\n",
    "Ans:\n",
    "    Outliers can significantly impact measures of central tendency and dispersion in a dataset.\n",
    "\n",
    "Measures of Central Tendency:\n",
    "\n",
    "Outliers can distort the mean (average) because they pull the mean towards their extreme values.\n",
    "The median is less affected by outliers, as it represents the middle value, which is less influenced by extreme values.\n",
    "The mode may not be affected by outliers if they are isolated cases and don't significantly impact the most frequent values.\n",
    "Measures of Dispersion:\n",
    "\n",
    "Outliers can greatly affect the range, especially if they are extreme values.\n",
    "Variance and standard deviation are sensitive to outliers, as they involve squaring the differences between data points\n",
    "and the mean. This can amplify the impact of outliers on the overall variability.\n",
    "Interquartile Range (IQR) is more robust to outliers, as it focuses on the middle 50% of the data and is less influenced\n",
    "by extreme values.\n",
    "\n",
    "Example:\n",
    "dataset of exam scores: 85, 90, 92, 88, 86, 98, 84, 99, 100, 60 (outlier).\n",
    "\n",
    "Without Outlier:\n",
    "Mean = (85 + 90 + 92 + 88 + 86 + 98 + 84 + 99 + 100 + 60) / 10 = 89.2\n",
    "Median = 88.5\n",
    "Mode = No mode (all values are unique)\n",
    "Range = 100 - 60 = 40\n",
    "Variance = 141.84\n",
    "Standard Deviation = √141.84 ≈ 11.92\n",
    "\n",
    "With Outlier:\n",
    "Mean = (85 + 90 + 92 + 88 + 86 + 98 + 84 + 99 + 100 + 60) / 10 = 86.2\n",
    "Median = 87\n",
    "Mode = No mode (all values are unique)\n",
    "Range = 100 - 60 = 40\n",
    "Variance = 408.64\n",
    "Standard Deviation = √408.64 ≈ 20.21"
   ]
  }
 ],
 "metadata": {
  "kernelspec": {
   "display_name": "Python 3 (ipykernel)",
   "language": "python",
   "name": "python3"
  },
  "language_info": {
   "codemirror_mode": {
    "name": "ipython",
    "version": 3
   },
   "file_extension": ".py",
   "mimetype": "text/x-python",
   "name": "python",
   "nbconvert_exporter": "python",
   "pygments_lexer": "ipython3",
   "version": "3.10.8"
  }
 },
 "nbformat": 4,
 "nbformat_minor": 5
}
