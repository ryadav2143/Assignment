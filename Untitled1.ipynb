{
 "cells": [
  {
   "cell_type": "code",
   "execution_count": null,
   "id": "9973331b-8f7e-47a2-bf84-3c73ef274cc2",
   "metadata": {},
   "outputs": [],
   "source": [
    "1.Explain with an example each when to use a for loop and a while loop?\n",
    "Ans:The for loop is used when we already know the number of iterations, which means when we know how many times a statement has to be executed.\n",
    "That is why we have to specify the ending point in the for loop initialization. When we need to end the loop on a condition other than the number\n",
    "of times, we use a while loop. In this case, it is not necessary to know the condition beforehand. That is why we can give a boolean expression \n",
    "in the initialization of the loop.\n",
    "\n",
    "For loop: The below loop will run infinite times.\n",
    "a = [1]\n",
    "for i in a:\n",
    "    print(\"Scaler\")\n",
    "    a.append(i)\n",
    "    \n",
    "While loop: The below loop will run infinite times.\n",
    "while True:\n",
    "    print(\"Hello\")"
   ]
  },
  {
   "cell_type": "code",
   "execution_count": 12,
   "id": "582981ee-b841-4bd4-8ca0-cef010c54d7f",
   "metadata": {},
   "outputs": [
    {
     "name": "stdout",
     "output_type": "stream",
     "text": [
      "The result is 55\n"
     ]
    }
   ],
   "source": [
    "2.Write a python program to print the sum and product of the first 10 natural numbers using for and while loop?\n",
    "Ans:While loop:    \n",
    "num = 10\n",
    "sum = 0\n",
    "while(num > 0):\n",
    "        sum += num\n",
    "        num -= 1\n",
    "print(\"The result is\", sum)\n",
    "\n",
    "for loop:    \n",
    "sum=0\n",
    "for i in range(1,11):\n",
    "    sum+=i\n",
    "    i=i+1\n",
    "print(\"The result is\",sum)\n"
   ]
  },
  {
   "cell_type": "code",
   "execution_count": 17,
   "id": "2dcdd53c-ec20-4608-b1c6-0b2e41abfdb9",
   "metadata": {},
   "outputs": [
    {
     "name": "stdin",
     "output_type": "stream",
     "text": [
      "units of electricity consumed 310\n"
     ]
    },
    {
     "name": "stdout",
     "output_type": "stream",
     "text": [
      "2250\n"
     ]
    }
   ],
   "source": [
    "3.Create a python program to compute the electricity bill for a household.\n",
    "The per-unit charges in rupees are as follows: For the first 100 units, the user will be charged Rs. 4.5 perunit, for the next 100 units, \n",
    "the user will be charged Rs. 6 per unit, and for the next 100 units, the user willbe charged Rs. 10 per unit, \n",
    "After 300 units and above the user will be charged Rs. 20 per unit.\n",
    "You are required to take the units of electricity consumed in a month from the user as input.\n",
    "Your program must pass this test case: when the unit of electricity consumed by the user in a month is 310, \n",
    "the total electricity bill should be 2250?\n",
    "Ans:unit=int(input(\"units of electricity consumed\"))\n",
    "if unit<=100:\n",
    "    bill=unit*4.5\n",
    "    print(bill)\n",
    "elif unit>100 and unit<=200:\n",
    "    bill=450+(unit-100)*6.0\n",
    "    print(bill)\n",
    "elif unit>200 and unit<300:\n",
    "    bill=450+600+(unit-200)*10.0\n",
    "    print(bill)\n",
    "else:\n",
    "    bill=450+600+1000+(unit-300)*20\n",
    "    print(bill)\n",
    "    "
   ]
  },
  {
   "cell_type": "code",
   "execution_count": 22,
   "id": "9b3b8ace-7427-40ec-adfd-bb65731bf521",
   "metadata": {},
   "outputs": [
    {
     "name": "stdout",
     "output_type": "stream",
     "text": [
      "[8, 64, 125, 216, 512, 1000, 1728, 2744, 3375, 4096, 5832, 8000, 10648, 13824, 15625, 17576, 21952, 27000, 32768, 39304, 42875, 46656, 54872, 64000, 74088, 85184, 91125, 97336, 110592, 125000, 140608, 157464, 166375, 175616, 195112, 216000, 238328, 262144, 274625, 287496, 314432, 343000, 373248, 405224, 421875, 438976, 474552, 512000, 551368, 592704, 614125, 636056, 681472, 729000, 778688, 830584, 857375, 884736, 941192, 1000000]\n"
     ]
    }
   ],
   "source": [
    "4.Create a list of numbers from 1 to 100. Use for loop and while loop to calculate the cube of eachnumber and if the cube of that number is divisible \n",
    "by 4 or 5 then append that number in a list and print that list?\n",
    "Ans:l=[]\n",
    "l1=[]\n",
    "lst=list(range(1,101))\n",
    "for i in lst:\n",
    "    l.append(i**3)\n",
    "for i in l:\n",
    "    if i%4==0 or i%5==0:\n",
    "        l1.append(i)\n",
    "print(l1)"
   ]
  },
  {
   "cell_type": "code",
   "execution_count": 27,
   "id": "948a377a-1311-46be-812a-47845db37963",
   "metadata": {},
   "outputs": [
    {
     "name": "stdout",
     "output_type": "stream",
     "text": [
      "['I', 'a', 'o', 'e', 'o', 'e', 'a', 'a', 'a', 'i', 'e', 'i']\n"
     ]
    }
   ],
   "source": [
    "5.Write a program to filter count vowels in the below-given string.string = \"I want to become a data scientist\"?\n",
    "def Check_Vow(string, vowels):\n",
    "    Match = [each for each in string if each in vowels]\n",
    "    print(Match)\n",
    "string = \"I want to become a data scientist\"\n",
    "vowels = \"AaEeIiOoUu\"\n",
    "Check_Vow(string, vowels)"
   ]
  }
 ],
 "metadata": {
  "kernelspec": {
   "display_name": "Python 3 (ipykernel)",
   "language": "python",
   "name": "python3"
  },
  "language_info": {
   "codemirror_mode": {
    "name": "ipython",
    "version": 3
   },
   "file_extension": ".py",
   "mimetype": "text/x-python",
   "name": "python",
   "nbconvert_exporter": "python",
   "pygments_lexer": "ipython3",
   "version": "3.10.8"
  }
 },
 "nbformat": 4,
 "nbformat_minor": 5
}
