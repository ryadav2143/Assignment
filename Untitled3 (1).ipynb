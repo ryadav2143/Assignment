{
 "cells": [
  {
   "cell_type": "code",
   "execution_count": null,
   "id": "46bf7736-23fa-496e-bd57-ee3d568c6f56",
   "metadata": {},
   "outputs": [],
   "source": [
    "Q1. Which keyword is used to create a function? Create a function to return a list of odd numbers in the\n",
    "range of 1 to 25?\n",
    "Ans:The def keyword is used to create, (or define) a function.\n",
    "\n",
    "def odd_numbers(n):\n",
    "    return [x for x in range(1,26) if x%2!=0]\n",
    "\n",
    "print(odd_numbers(25)) "
   ]
  },
  {
   "cell_type": "code",
   "execution_count": null,
   "id": "3ba1bcf3-dbb9-49d6-99ba-bde710b25d7b",
   "metadata": {},
   "outputs": [],
   "source": [
    "Q2. Why *args and **kwargs is used in some functions? Create a function each for *args and **kwargs\n",
    "to demonstrate their use?\n",
    "Ans:We use *args and **kwargs as an argument when we are unsure about the number of arguments to pass in the functions.\n",
    "*args and **kwargs make the function flexible.\n",
    "\n",
    "def multiply(*args):\n",
    "    z = 1\n",
    "    for num in args:\n",
    "        z *= num\n",
    "    print(z)\n",
    "\n",
    "multiply(4, 5)\n",
    "Output: 20\n",
    "\n",
    "def print_values(**kwargs):\n",
    "    for key, value in kwargs.items():\n",
    "        print(\"The value of {} is {}\".format(key, value))\n",
    "\n",
    "print_values(\n",
    "            name_1=\"Alex\",\n",
    ")\n",
    "Output:The value of name_1 is Alex"
   ]
  },
  {
   "cell_type": "code",
   "execution_count": null,
   "id": "954d6687-ea55-47d2-99df-5ba93a28ab53",
   "metadata": {},
   "outputs": [],
   "source": [
    "Q3. What is an iterator in python? Name the method used to initialise the iterator object and the method\n",
    "used for iteration. Use these methods to print the first five elements of the given list [2, 4, 6, 8, 10, 12, 14,\n",
    "16, 18, 20]?\n",
    "Ans:An iterator is an object that contains a countable number of values. An iterator is an object that can be iterated upon, meaning that you can \n",
    "traverse through all the values.\n",
    "A Python iterator object must implement two special methods, __iter__() and __next__() , collectively called the iterator protocol.\n",
    "my_list = [2,4,6,8,10,12,14,16,18,20]\n",
    "\n",
    "iterator = iter(my_list)\n",
    "\n",
    "for element in iterator:\n",
    "        print(element)"
   ]
  },
  {
   "cell_type": "code",
   "execution_count": null,
   "id": "85bf0ff2-1a0f-4383-bf94-f54bbb3eeee8",
   "metadata": {},
   "outputs": [],
   "source": [
    "Q4. What is a generator function in python? Why yield keyword is used? Give an example of a generator function?\n",
    "Ans:Python Generator functions allow you to declare a function that behaves likes an iterator, allowing programmers to make an iterator \n",
    "in a fast, easy, and clean way.\n",
    "yield keyword is used to create a generator function. \n",
    "\n",
    "def my_generator(n):\n",
    "   \n",
    "    value = 0\n",
    "\n",
    "    while value < n:\n",
    "\n",
    "        yield value\n",
    "\n",
    "        value += 1\n",
    "\n",
    "for value in my_generator(3):\n",
    "\n",
    "    print(value)\n",
    "Output:\n",
    "0\n",
    "1\n",
    "2"
   ]
  },
  {
   "cell_type": "code",
   "execution_count": null,
   "id": "f995153e-e1cd-4cc4-bd2f-e8e29b4c5bc5",
   "metadata": {},
   "outputs": [],
   "source": [
    "Q5. Create a generator function for prime numbers less than 1000. Use the next() method to print the first 20 prime numbers?\n",
    "Ans: def getPrimes(n):\n",
    "    prime=True\n",
    "    i=2\n",
    "    while(i<n):\n",
    "        for a in range(2,i):\n",
    "            if(i%a==0):\n",
    "                prime=False\n",
    "                break\n",
    "        if(prime):    \n",
    "            yield i\n",
    "            item = iter(l)  \n",
    " \n",
    " while True:\n",
    "    item = next(item, \"end\")\n",
    "    if item == 20:\n",
    "        break\n",
    "    print(item)"
   ]
  },
  {
   "cell_type": "code",
   "execution_count": null,
   "id": "603c549a-047a-4539-a3a4-c3d34882ef87",
   "metadata": {},
   "outputs": [],
   "source": [
    "l_iter = iter(l)  \n",
    " \n",
    "while True:\n",
    "    item = next(l_iter, \"end\")\n",
    "    if item == 20:\n",
    "        break\n",
    "    print(item)"
   ]
  },
  {
   "cell_type": "code",
   "execution_count": 12,
   "id": "678dc8dd-52ba-4020-aebf-a6df4334fb06",
   "metadata": {},
   "outputs": [
    {
     "name": "stdout",
     "output_type": "stream",
     "text": [
      "Fibonacci sequence:\n",
      "0\n",
      "1\n",
      "1\n",
      "2\n",
      "3\n",
      "5\n",
      "8\n",
      "13\n",
      "21\n",
      "34\n"
     ]
    }
   ],
   "source": [
    "Q6. Write a python program to print the first 10 Fibonacci numbers using a while loop?\n",
    "Ans:nterms = 10\n",
    "n1, n2 = 0, 1\n",
    "count = 0\n",
    "\n",
    "if nterms <= 0:\n",
    "   print(\"Please enter a positive integer\")\n",
    "elif nterms == 1:\n",
    "   print(\"Fibonacci sequence upto\",nterms,\":\")\n",
    "   print(n1)\n",
    "else:\n",
    "   print(\"Fibonacci sequence:\")\n",
    "   while count < nterms:\n",
    "       print(n1)\n",
    "       nth = n1 + n2\n",
    "       # update values\n",
    "       n1 = n2\n",
    "       n2 = nth\n",
    "       count += 1"
   ]
  },
  {
   "cell_type": "code",
   "execution_count": 16,
   "id": "0e3fdb59-b9c3-4fad-9a03-a7b5e4441ef9",
   "metadata": {},
   "outputs": [
    {
     "name": "stdout",
     "output_type": "stream",
     "text": [
      "['p', 'w', 's', 'k', 'i', 'l', 'l', 's']\n"
     ]
    }
   ],
   "source": [
    "Q7. Write a List Comprehension to iterate through the given string: ‘pwskills’.\n",
    "Expected output: ['p', 'w', 's', 'k', 'i', 'l', 'l', 's']?\n",
    "Ans:pw_letters = [ letter for letter in 'pwskills' ]\n",
    "print( pw_letters)"
   ]
  },
  {
   "cell_type": "code",
   "execution_count": 17,
   "id": "eef6cf13-a3e5-44c5-9474-0d747cb8e0eb",
   "metadata": {},
   "outputs": [
    {
     "name": "stdin",
     "output_type": "stream",
     "text": [
      "Enter number: 45\n"
     ]
    },
    {
     "name": "stdout",
     "output_type": "stream",
     "text": [
      "The number isn't a palindrome!\n"
     ]
    }
   ],
   "source": [
    "Q8. Write a python program to check whether a given number is Palindrome or not using a while loop?\n",
    "Ans:n=int(input(\"Enter number:\"))\n",
    "temp=n\n",
    "rev=0\n",
    "while(n>0):\n",
    "    dig=n%10\n",
    "    rev=rev*10+dig\n",
    "    n=n//10\n",
    "if(temp==rev):\n",
    "    print(\"The number is a palindrome!\")\n",
    "else:\n",
    "    print(\"The number isn't a palindrome!\")"
   ]
  },
  {
   "cell_type": "code",
   "execution_count": 15,
   "id": "5dff754a-f0be-432b-82a3-23efb5233c2e",
   "metadata": {},
   "outputs": [
    {
     "name": "stdout",
     "output_type": "stream",
     "text": [
      "[1, 3, 5, 7, 9, 11, 13, 15, 17, 19, 21, 23, 25, 27, 29, 31, 33, 35, 37, 39, 41, 43, 45, 47, 49, 51, 53, 55, 57, 59, 61, 63, 65, 67, 69, 71, 73, 75, 77, 79, 81, 83, 85, 87, 89, 91, 93, 95, 97, 99]\n"
     ]
    }
   ],
   "source": [
    "Q9. Write a code to print odd numbers from 1 to 100 using list comprehension?\n",
    "Ans:odd_list = [element for element in range(1, 101) if element % 2 == 1 ]\n",
    "print(odd_list)"
   ]
  }
 ],
 "metadata": {
  "kernelspec": {
   "display_name": "Python 3 (ipykernel)",
   "language": "python",
   "name": "python3"
  },
  "language_info": {
   "codemirror_mode": {
    "name": "ipython",
    "version": 3
   },
   "file_extension": ".py",
   "mimetype": "text/x-python",
   "name": "python",
   "nbconvert_exporter": "python",
   "pygments_lexer": "ipython3",
   "version": "3.10.8"
  }
 },
 "nbformat": 4,
 "nbformat_minor": 5
}
