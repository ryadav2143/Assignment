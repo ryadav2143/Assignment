{
 "cells": [
  {
   "cell_type": "code",
   "execution_count": null,
   "id": "2637a440-cab8-4016-b5f7-2925b24d2766",
   "metadata": {},
   "outputs": [],
   "source": [
    "1.Who developed python programming language?\n",
    "Ans:Guido van Rossum."
   ]
  },
  {
   "cell_type": "code",
   "execution_count": null,
   "id": "17836180-a83b-4da1-8adc-38237420f88d",
   "metadata": {},
   "outputs": [],
   "source": [
    "2.Which type of  programming does python support?\n",
    "Ans:Object-oriented programming and structured programming ."
   ]
  },
  {
   "cell_type": "code",
   "execution_count": null,
   "id": "2b5a565d-d1d9-4557-9bd0-1da165808d13",
   "metadata": {},
   "outputs": [],
   "source": [
    "3.Is python case sensitive when dealing with indentifier?\n",
    "Ans:Yes."
   ]
  },
  {
   "cell_type": "code",
   "execution_count": null,
   "id": "c6c8e390-61d3-4a1a-9970-53feb795c0af",
   "metadata": {},
   "outputs": [],
   "source": [
    "4.What is the correct extension of the python file?\n",
    "Ans: - . py, . pyi, ."
   ]
  },
  {
   "cell_type": "code",
   "execution_count": null,
   "id": "6072e0d5-72e3-4f46-8dcd-dd8d8ab6d6ca",
   "metadata": {},
   "outputs": [],
   "source": [
    "5.Is python code compiled or interpreted?\n",
    "Ans:Interpreted ."
   ]
  },
  {
   "cell_type": "code",
   "execution_count": null,
   "id": "d134f6ab-aac6-43ea-a1ff-aad5c89b5f22",
   "metadata": {},
   "outputs": [],
   "source": [
    "6.Name a few block of code used to define in python language?\n",
    "Ans:a module, a function body, and a class definition."
   ]
  },
  {
   "cell_type": "code",
   "execution_count": null,
   "id": "36026161-cb08-474d-b3d6-7191f33dc6b5",
   "metadata": {},
   "outputs": [],
   "source": [
    "7.State a character used to give single-line comments in python?\n",
    "Ans:We can write a single-line comment by adding a single \" # \" character before any statement or line of code ."
   ]
  },
  {
   "cell_type": "code",
   "execution_count": null,
   "id": "28c4f6d5-d9c2-4f6d-96ab-85f6dbc40c0d",
   "metadata": {},
   "outputs": [],
   "source": [
    "8.Mention function which can help us to find the version of python that we are currently working on?\n",
    "Ans:function sys.version ."
   ]
  },
  {
   "cell_type": "code",
   "execution_count": null,
   "id": "f7f79d9f-0fbe-4eb0-97fd-6cae4d9c1d15",
   "metadata": {},
   "outputs": [],
   "source": [
    "9.Python supports the creation of anonymous functions at runtime,using a construct called?\n",
    "Ans:lambda ."
   ]
  },
  {
   "cell_type": "code",
   "execution_count": null,
   "id": "9eff2e05-7764-4af2-b5bb-bb7f70085295",
   "metadata": {},
   "outputs": [],
   "source": [
    "10.What does pip stand for python?\n",
    "Ans:Preferred Installer Program."
   ]
  },
  {
   "cell_type": "code",
   "execution_count": null,
   "id": "a7df395c-60df-4f3d-89d7-bb3b5a493158",
   "metadata": {},
   "outputs": [],
   "source": [
    "11.Mention a few built-in functions in python?\n",
    "Ans:print( ) function, type( ) function, input( ) function, abs( ) function, pow( ) function, dir( ) function, sorted( ) function, max( ) function ."
   ]
  },
  {
   "cell_type": "code",
   "execution_count": null,
   "id": "9f8c5012-0fd3-4062-9635-7cbb1e7f7de0",
   "metadata": {},
   "outputs": [],
   "source": [
    "12.What is the maximum possible length of an identifier in python?\n",
    "Ans:79 characters."
   ]
  },
  {
   "cell_type": "code",
   "execution_count": null,
   "id": "388e2b7f-6ab0-4b6e-9222-3ba82003fc39",
   "metadata": {},
   "outputs": [],
   "source": [
    "13.What are the benefits of using python?\n",
    "Ans:1. Easy to Read, Learn and Write ,  Improved Productivity ,  Free and Open-Source ,  Vast Libraries Support."
   ]
  },
  {
   "cell_type": "code",
   "execution_count": null,
   "id": "ac27dd93-4ad5-4285-bd1d-ff8bfba9edd6",
   "metadata": {},
   "outputs": [],
   "source": [
    "14.How is memory managed in python?\n",
    "Ans:Memory management in Python involves a private heap containing all Python objects and data structures.The management of this private heap is ensured internally by the \n",
    "     Python memory manager."
   ]
  },
  {
   "cell_type": "code",
   "execution_count": null,
   "id": "6de9e471-db78-4109-89d9-ee203d3b4cda",
   "metadata": {},
   "outputs": [],
   "source": [
    "15.How to install python on windows and set path variables?\n",
    "Ans:Press the Windows Key + R on your keyboard in order to open the Run dialog box Type sysdm.cpl to open the System Properties Go to the Advanced tab and then \n",
    "click on the ‘Environment Variables…, That should take you to the Environment Variables screen, where you can add/edit your paths.\n",
    "Under the User variables box, click on ‘New…‘ to add the ‘Path’ variable (note that if your ‘Path’ variable already exists, then click on ‘Edit…’ instead):"
   ]
  },
  {
   "cell_type": "code",
   "execution_count": null,
   "id": "ee837ebd-ac15-405b-8873-a00f7d7587e8",
   "metadata": {},
   "outputs": [],
   "source": [
    "16.Is indentation required in python?\n",
    "Ans:Yes,identation is very important."
   ]
  }
 ],
 "metadata": {
  "kernelspec": {
   "display_name": "Python 3 (ipykernel)",
   "language": "python",
   "name": "python3"
  },
  "language_info": {
   "codemirror_mode": {
    "name": "ipython",
    "version": 3
   },
   "file_extension": ".py",
   "mimetype": "text/x-python",
   "name": "python",
   "nbconvert_exporter": "python",
   "pygments_lexer": "ipython3",
   "version": "3.10.8"
  }
 },
 "nbformat": 4,
 "nbformat_minor": 5
}
