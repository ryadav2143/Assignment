{
 "cells": [
  {
   "cell_type": "code",
   "execution_count": 2,
   "id": "31316ead-0623-43e4-9509-46821dacbae3",
   "metadata": {},
   "outputs": [
    {
     "name": "stdout",
     "output_type": "stream",
     "text": [
      "<class 'list'>\n",
      "<class 'numpy.ndarray'>\n"
     ]
    }
   ],
   "source": [
    "Q1. Is there any difference in the data type of variables list_ and array_list? If there is then write a code\n",
    "to print the data types of both the variables.\n",
    "Ans:\n",
    "In Python, the terms \"list\" and \"array\" typically refer to different data structures.\n",
    "\n",
    "A \"list\" is a built-in data type in Python that can hold a collection of items of different types. Lists are created using square brackets, \n",
    "like this:\n",
    "\n",
    "my_list = [1, 2, 3, 4, 5]\n",
    "\n",
    "An \"array,\" on the other hand, usually refers to a data structure provided by external libraries like NumPy, which is specifically designed to\n",
    "work with numerical data. Arrays in libraries like NumPy offer various advantages over lists, such as faster computations and better memory \n",
    "efficiency.\n",
    "\n",
    "If you want to compare the data types of a Python list and a NumPy array, you can do so like this:\n",
    "import numpy as np\n",
    "\n",
    "list_ = [1, 2, 3, 4, 5]\n",
    "array_list = np.array([1, 2, 3, 4, 5])\n",
    "\n",
    "print(type(list_))\n",
    "print(type(array_list))"
   ]
  },
  {
   "cell_type": "code",
   "execution_count": 5,
   "id": "97cfbf05-b5f1-4971-90b6-45e7c52c9348",
   "metadata": {},
   "outputs": [
    {
     "name": "stdout",
     "output_type": "stream",
     "text": [
      "Data types of elements in list_:\n",
      "<class 'int'>\n",
      "<class 'int'>\n",
      "<class 'int'>\n",
      "<class 'int'>\n",
      "<class 'int'>\n",
      "Data types of elements in array_list:\n",
      "<class 'numpy.int64'>\n",
      "<class 'numpy.int64'>\n",
      "<class 'numpy.int64'>\n",
      "<class 'numpy.int64'>\n",
      "<class 'numpy.int64'>\n"
     ]
    }
   ],
   "source": [
    "Q2. Write a code to print the data type of each and every element of both the variables list_ and\n",
    "arra_list?\n",
    "Ans:\n",
    "import numpy as np\n",
    "\n",
    "list_ = [1, 2, 3, 4, 5]\n",
    "array_list = np.array([1, 2, 3, 4, 5])\n",
    "\n",
    "# Print data types of elements in list_\n",
    "print(\"Data types of elements in list_:\")\n",
    "for i in list_:\n",
    "    print(type(i))\n",
    "\n",
    "# Print data types of elements in array_list\n",
    "print(\"Data types of elements in array_list:\")\n",
    "for i in array_list:\n",
    "    print(type(i))"
   ]
  },
  {
   "cell_type": "code",
   "execution_count": null,
   "id": "e0e691b3-5a53-4a8c-9422-9cba3a58e017",
   "metadata": {},
   "outputs": [],
   "source": [
    "Q3. Considering the following changes in the variable, array_list:\n",
    "array_list = np.array(object = list_, dtype = int)\n",
    "Will there be any difference in the data type of the elements present in both the variables, list_ and\n",
    "arra_list? If so then print the data types of each and every element present in both the variables, list_\n",
    "and arra_list?\n",
    "Ans:\n",
    "\n",
    "Yes, there will be a difference in the data types of the elements between the list_ variable and the array_list variable when you create the\n",
    "array_list with the dtype=int. The dtype=int argument specifies that the elements in the resulting NumPy array should be converted to integers.\n",
    "\n",
    "import numpy as np\n",
    "\n",
    "list_ = ['1', '2', '3', '4', '5']\n",
    "array_list = np.array(object=list_, dtype=int)\n",
    "\n",
    "# Print data types of elements in list_\n",
    "print(\"Data types of elements in list_:\")\n",
    "for element in list_:\n",
    "    print(type(element))\n",
    "\n",
    "# Print data types of elements in modified array_list\n",
    "print(\"Data types of elements in modified array_list:\")\n",
    "for element in array_list:\n",
    "    print(type(element))\n",
    "    \n",
    "In the original list_, the elements are strings (enclosed in single quotes). However, when you create the array_list with dtype=int, the strings\n",
    "are converted to integers. The output will show that the data types of elements in the list_ are <class 'str'>, and the data types of elements in \n",
    "the modified array_list are <class 'int'>."
   ]
  },
  {
   "cell_type": "code",
   "execution_count": 10,
   "id": "9f1bb01d-aeb3-47d4-a451-8e6d4a9797d8",
   "metadata": {},
   "outputs": [
    {
     "name": "stdout",
     "output_type": "stream",
     "text": [
      "(2, 3)\n",
      "6\n"
     ]
    }
   ],
   "source": [
    "Q4. Write a code to find the following characteristics of variable, num_array:\n",
    "(i) shape\n",
    "(ii) size\n",
    "?\n",
    "Ans:\n",
    "import numpy as np\n",
    "num_list = [ [ 1 , 2 , 3 ] , [ 4 , 5 , 6 ] ]\n",
    "num_array = np.array(object = num_list)\n",
    "print(num_array.shape)\n",
    "print(num_array.size)"
   ]
  },
  {
   "cell_type": "code",
   "execution_count": 11,
   "id": "534b4d30-c27a-4758-829b-08e7655f1c0f",
   "metadata": {},
   "outputs": [
    {
     "data": {
      "text/plain": [
       "array([[0., 0., 0.],\n",
       "       [0., 0., 0.],\n",
       "       [0., 0., 0.]])"
      ]
     },
     "execution_count": 11,
     "metadata": {},
     "output_type": "execute_result"
    }
   ],
   "source": [
    "Q5. Write a code to create numpy array of 3*3 matrix containing zeros only, using a numpy array\n",
    "creation function?\n",
    "Ans:\n",
    "import numpy as np\n",
    "arr = np.zeros((3,3))\n",
    "arr"
   ]
  },
  {
   "cell_type": "code",
   "execution_count": 15,
   "id": "c8586c71-6f6e-424a-b4ac-f6b7fbe82458",
   "metadata": {},
   "outputs": [
    {
     "data": {
      "text/plain": [
       "array([[1., 0., 0., 0., 0.],\n",
       "       [0., 1., 0., 0., 0.],\n",
       "       [0., 0., 1., 0., 0.],\n",
       "       [0., 0., 0., 1., 0.],\n",
       "       [0., 0., 0., 0., 1.]])"
      ]
     },
     "execution_count": 15,
     "metadata": {},
     "output_type": "execute_result"
    }
   ],
   "source": [
    "Q6. Create an identity matrix of shape (5,5) using numpy functions?\n",
    "Ans:\n",
    "import numpy as np\n",
    "arr = np.eye(5,5)\n",
    "arr"
   ]
  }
 ],
 "metadata": {
  "kernelspec": {
   "display_name": "Python 3 (ipykernel)",
   "language": "python",
   "name": "python3"
  },
  "language_info": {
   "codemirror_mode": {
    "name": "ipython",
    "version": 3
   },
   "file_extension": ".py",
   "mimetype": "text/x-python",
   "name": "python",
   "nbconvert_exporter": "python",
   "pygments_lexer": "ipython3",
   "version": "3.10.8"
  }
 },
 "nbformat": 4,
 "nbformat_minor": 5
}
