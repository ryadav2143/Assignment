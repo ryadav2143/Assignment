{
 "cells": [
  {
   "cell_type": "code",
   "execution_count": 1,
   "id": "4bed15be-96e8-44ce-87dc-7edd3688126a",
   "metadata": {},
   "outputs": [
    {
     "name": "stdout",
     "output_type": "stream",
     "text": [
      "Requirement already satisfied: pandas in /opt/conda/lib/python3.10/site-packages (1.5.2)\n",
      "Requirement already satisfied: python-dateutil>=2.8.1 in /opt/conda/lib/python3.10/site-packages (from pandas) (2.8.2)\n",
      "Requirement already satisfied: pytz>=2020.1 in /opt/conda/lib/python3.10/site-packages (from pandas) (2022.6)\n",
      "Requirement already satisfied: numpy>=1.21.0 in /opt/conda/lib/python3.10/site-packages (from pandas) (1.23.5)\n",
      "Requirement already satisfied: six>=1.5 in /opt/conda/lib/python3.10/site-packages (from python-dateutil>=2.8.1->pandas) (1.16.0)\n",
      "Note: you may need to restart the kernel to use updated packages.\n"
     ]
    }
   ],
   "source": [
    "pip install pandas\n"
   ]
  },
  {
   "cell_type": "code",
   "execution_count": 4,
   "id": "929a63bd-4125-473d-821e-4096fe5d4432",
   "metadata": {},
   "outputs": [
    {
     "name": "stdout",
     "output_type": "stream",
     "text": [
      "0     4\n",
      "1     8\n",
      "2    15\n",
      "3    16\n",
      "4    23\n",
      "5    42\n",
      "dtype: int64\n"
     ]
    }
   ],
   "source": [
    "Q1. Create a Pandas Series that contains the following data: 4, 8, 15, 16, 23, and 42. Then, print the series?\n",
    "Ans:\n",
    "import pandas as pd\n",
    "list=[4, 8, 15, 16, 23, 42]\n",
    "ser = pd.Series(list)\n",
    "print(ser)"
   ]
  },
  {
   "cell_type": "code",
   "execution_count": 5,
   "id": "6fc5337c-938b-4d24-97fa-04c88d0a7cfa",
   "metadata": {},
   "outputs": [
    {
     "name": "stdout",
     "output_type": "stream",
     "text": [
      "0     1\n",
      "1     2\n",
      "2     3\n",
      "3     4\n",
      "4     5\n",
      "5     6\n",
      "6     7\n",
      "7     8\n",
      "8     9\n",
      "9    10\n",
      "dtype: int64\n"
     ]
    }
   ],
   "source": [
    "Q2. Create a variable of list type containing 10 elements in it, and apply pandas.Series function on the\n",
    "variable print it?\n",
    "Ans:\n",
    "import pandas as pd\n",
    "list=[1,2,3,4,5,6,7,8,9,10]\n",
    "ser = pd.Series(list)\n",
    "print(ser)"
   ]
  },
  {
   "cell_type": "code",
   "execution_count": 11,
   "id": "bf09acd4-8c10-4cbe-9be1-210f3402de37",
   "metadata": {},
   "outputs": [
    {
     "name": "stdout",
     "output_type": "stream",
     "text": [
      "     Name  Age  Gender\n",
      "0   Alice   25  Female\n",
      "1     Bob   30    Male\n",
      "2  Claire   27  Female\n"
     ]
    }
   ],
   "source": [
    "Q3. Create a Pandas DataFrame that contains the following data?\n",
    "Ans:\n",
    "data = {'Name' :['Alice','Bob','Claire'],'Age':[25,30,27],'Gender':['Female','Male','Female']}\n",
    "df = pd.DataFrame(data)\n",
    "print(df)"
   ]
  },
  {
   "cell_type": "code",
   "execution_count": null,
   "id": "d5d4bbbf-8659-4075-bf4e-f00448cd2f09",
   "metadata": {},
   "outputs": [],
   "source": [
    "Q4. What is ‘DataFrame’ in pandas and how is it different from pandas.series? Explain with an example.\n",
    "Ans:\n",
    "    In pandas, a DataFrame is a two-dimensional labeled data structure that is widely used for data manipulation and analysis. It can be thought \n",
    "of as a table-like structure with rows and columns, where each column can contain data of different types (e.g., integers, floats, strings, etc.)\n",
    "DataFrame provides a powerful and flexible way to store and manipulate structured data.\n",
    "\n",
    "Ex:\n",
    "import pandas as pd\n",
    "data = {\n",
    "    'Name': ['Alice', 'Bob', 'Charlie', 'David'],\n",
    "    'Age': [25, 30, 22, 28],\n",
    "    'City': ['New York', 'Los Angeles', 'Chicago', 'Houston']\n",
    "}\n",
    "df = pd.DataFrame(data)\n",
    "print(\"DataFrame:\")\n",
    "print(df)\n",
    "O/p:\n",
    "       Name  Age         City\n",
    "0  Alice   25     New York\n",
    "1    Bob   30  Los Angeles\n",
    "2 Charlie   22      Chicago\n",
    "3  David   28      Houston\n",
    "\n",
    "\n",
    "\n",
    "On the other hand, a Series is a one-dimensional labeled array, somewhat similar to a column in a spreadsheet or a single variable in statistics.\n",
    "It is a fundamental building block of pandas and can hold data of any type. A Series also has an index, which labels each element in the array, \n",
    "allowing for fast and efficient data retrieval.\n",
    "\n",
    "Ex:\n",
    "import pandas as pd\n",
    "list=[4, 8, 15, 16, 23, 42]\n",
    "ser = pd.Series(list)\n",
    "print(ser)\n",
    "\n",
    "o/p:\n",
    "0     4\n",
    "1     8\n",
    "2    15\n",
    "3    16\n",
    "4    23\n",
    "5    42\n",
    "dtype: int64"
   ]
  },
  {
   "cell_type": "code",
   "execution_count": null,
   "id": "688933e0-9a98-4bb9-8bf8-f88002db100f",
   "metadata": {},
   "outputs": [],
   "source": [
    "Q5. What are some common functions you can use to manipulate data in a Pandas DataFrame? Can\n",
    "you give an example of when you might use one of these functions?\n",
    "Ans:\n",
    "    1) df.head() : These functions allow you to view the first  rows of your DataFrame.\n",
    "    2) df.tail() : These functions allow you to view the last rows of your DataFrame.\n",
    "    3) df.dtypes() : These function is used to know the data types of our column .\n",
    "    4) df.columns : These function is used to know the columns name.\n",
    "    \n",
    "Ex:\n",
    "import pandas as pd\n",
    "data = {\n",
    "    'Name': ['Alice', 'Bob', 'Charlie', 'David'],\n",
    "    'Age': [25, 30, 22, 28],\n",
    "    'City': ['New York', 'Los Angeles', 'Chicago', 'Houston']\n",
    "}\n",
    "df = pd.DataFrame(data)\n",
    "print(df.head(2)) \n",
    "\n",
    "o/p:\n",
    "    Name  Age         City\n",
    "0  Alice   25     New York\n",
    "1    Bob   30  Los Angeles\n"
   ]
  },
  {
   "cell_type": "code",
   "execution_count": null,
   "id": "adf39f6d-fcac-4a3e-9974-a53f191e9a8e",
   "metadata": {},
   "outputs": [],
   "source": [
    "Q6. Which of the following is mutable in nature Series, DataFrame, Panel?\n",
    "\n",
    "Series: A Series is immutable, which means you cannot change its elements or length once it is created. If you need to modify a Series, you'll\n",
    "generally need to create a new one.\n",
    "\n",
    "DataFrame: A DataFrame is mutable, which means you can modify its contents, add or remove columns, and perform various data manipulation operations.\n",
    "You can change the data within a DataFrame without needing to create a new one.\n",
    "\n",
    "Panel: The Panel was deprecated and removed from pandas starting from version 0.25.0. It used to be a three-dimensional data structure. As of the \n",
    "removal, you should use DataFrame objects for 2D data and potentially use MultiIndex to represent higher-dimensional data."
   ]
  },
  {
   "cell_type": "code",
   "execution_count": 13,
   "id": "1c0c86e9-2f41-4f03-bcb1-b105a6125378",
   "metadata": {},
   "outputs": [
    {
     "name": "stdout",
     "output_type": "stream",
     "text": [
      "      Name  Age         City\n",
      "0    Alice   25     New York\n",
      "1      Bob   30  Los Angeles\n",
      "2  Charlie   22      Chicago\n",
      "3    David   28      Houston\n"
     ]
    }
   ],
   "source": [
    "Q7. Create a DataFrame using multiple Series. Explain with an example?\n",
    "Ans:\n",
    "    Creating a DataFrame using multiple Series is a common operation in pandas. You can combine multiple Series to form columns of the DataFrame. \n",
    "Each Series becomes a column, and the indices of the Series become the index of the DataFrame. \n",
    "\n",
    "import pandas as pd\n",
    "names = pd.Series(['Alice', 'Bob', 'Charlie', 'David'])\n",
    "ages = pd.Series([25, 30, 22, 28])\n",
    "cities = pd.Series(['New York', 'Los Angeles', 'Chicago', 'Houston'])\n",
    "data = {\n",
    "    'Name': names,\n",
    "    'Age': ages,\n",
    "    'City': cities\n",
    "}\n",
    "df = pd.DataFrame(data)\n",
    "print(df)\n"
   ]
  }
 ],
 "metadata": {
  "kernelspec": {
   "display_name": "Python 3 (ipykernel)",
   "language": "python",
   "name": "python3"
  },
  "language_info": {
   "codemirror_mode": {
    "name": "ipython",
    "version": 3
   },
   "file_extension": ".py",
   "mimetype": "text/x-python",
   "name": "python",
   "nbconvert_exporter": "python",
   "pygments_lexer": "ipython3",
   "version": "3.10.8"
  }
 },
 "nbformat": 4,
 "nbformat_minor": 5
}
