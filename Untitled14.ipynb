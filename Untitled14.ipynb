{
 "cells": [
  {
   "cell_type": "code",
   "execution_count": null,
   "id": "11dbd33b-1ca6-40ea-a839-462360fda2be",
   "metadata": {},
   "outputs": [],
   "source": [
    "Q1. Explain why we have to use the Exception class while creating a Custom Exception.\n",
    "Ans:When creating a custom exception in Python, it is best practice to use the Exception class as the base class for the custom exception.\n",
    "This is because the Exception class provides a consistent and well-defined interface for handling errors, and it includes important methods\n",
    "such as __str__() and __repr__(), which are used to provide a human-readable string representation of the exception.\n",
    "\n",
    "In addition, using the Exception class as the base class for a custom exception allows it to be caught by any generic exception handling code \n",
    "that catches instances of the base Exception class. This means that code that handles exceptions will be able to handle the custom exception\n",
    "in the same way as built-in exceptions, making it easier to write robust and maintainable code.\n",
    "\n",
    "Finally, using the Exception class as the base class for a custom exception ensures that the custom exception will be compatible with \n",
    "other Python libraries and frameworks that expect exceptions to follow the standard Python exception hierarchy. This can help to ensure that \n",
    "the custom exception is easily understood and used by other developers who may encounter it."
   ]
  },
  {
   "cell_type": "code",
   "execution_count": null,
   "id": "e7b85c93-904c-4c89-b3cd-434f803a535b",
   "metadata": {},
   "outputs": [],
   "source": [
    "Q2. Write a python program to print Python Exception Hierarchy.\n",
    "Ans:\n",
    "class ExceptionHierarchy:\n",
    "    def __init__(self):\n",
    "        self.exceptions = []\n",
    "        self.get_exceptions()\n",
    "        \n",
    "    def get_exceptions(self):\n",
    "        for exc in dir(__builtins__):\n",
    "            obj = getattr(__builtins__, exc)\n",
    "            if isinstance(obj, type) and issubclass(obj, BaseException):\n",
    "                self.exceptions.append(obj)\n",
    "\n",
    "    def print_exceptions(self):\n",
    "        for exc in self.exceptions:\n",
    "            print(f\"{exc.__name__}\")\n",
    "            for sub_exc in exc.__subclasses__():\n",
    "                print(f\"\\t{sub_exc.__name__}\")\n",
    "                for sub_sub_exc in sub_exc.__subclasses__():\n",
    "                    print(f\"\\t\\t{sub_sub_exc.__name__}\")\n",
    "    \n",
    "eh \n",
    "eh.print_exceptions()\n"
   ]
  },
  {
   "cell_type": "code",
   "execution_count": null,
   "id": "11bb5345-dbd0-4e1c-a36c-9c35dbbb1fe4",
   "metadata": {},
   "outputs": [],
   "source": [
    "Q3. What errors are defined in the ArithmeticError class? Explain any two with an example.\n",
    "Ans:The ArithmeticError class is a base class for exceptions that occur during arithmetic operations. It is a subclass of the built-in Exception class,\n",
    "and it provides a consistent interface for handling arithmetic errors in Python. Here are two examples of errors that are defined in the \n",
    "ArithmeticError class:\n",
    "    \n",
    "ZeroDivisionError: This error occurs when an attempt is made to divide a number by zero. For example:\n",
    "\n",
    "python\n",
    "Copy code\n",
    "a = 10\n",
    "b = 0\n",
    "c = a/b  \n",
    "In this example, the attempt to divide a by b will result in a ZeroDivisionError, because division by zero is not allowed in Python.\n",
    "\n",
    "OverflowError: This error occurs when an arithmetic operation results in a number that is too large to be represented in the current system.\n",
    "For example:\n",
    "\n",
    "python\n",
    "Copy code\n",
    "a = 1000000000000000000000000000000000000000000000000000000000000000000000000000000000000000000000000000000\n",
    "b = 1000000000000000000000000000000000000000000000000000000000000000000000000000000000000000000000000000000\n",
    "c = a * b  # This will raise an OverflowError\n",
    "In this example, the multiplication of a and b will result in a number that is too large to be represented in the current system, and as a result,\n",
    "an OverflowError will be raised."
   ]
  },
  {
   "cell_type": "code",
   "execution_count": null,
   "id": "47bb0b0e-dfb3-4afa-9452-fc367bf8d8f9",
   "metadata": {},
   "outputs": [],
   "source": [
    "Q4. Why LookupError class is used? Explain with an example KeyError and IndexError.\n",
    "Ans:The LookupError class is a base class for exceptions that occur when a lookup or indexing operation fails. It is a subclass of the built-in Exception class, and it provides\n",
    "a consistent interface for handling lookup and indexing errors in Python.\n",
    "\n",
    "KeyError: This error occurs when a key is not found in a dictionary. For example:  \n",
    "my_dict = {\"apple\": 1, \"banana\": 2, \"orange\": 3}\n",
    "my_dict[\"pear\"]  # This will raise a KeyError\n",
    "\n",
    "IndexError: This error occurs when an index is out of range for a sequence such as a list or tuple. For example:\n",
    "my_list = [1, 2, 3]\n",
    "my_list[3]  # This will raise an IndexError\n",
    "\n",
    "    "
   ]
  },
  {
   "cell_type": "code",
   "execution_count": null,
   "id": "0262a507-c915-4242-aebc-2388495830a6",
   "metadata": {},
   "outputs": [],
   "source": [
    "Q5. Explain ImportError. What is ModuleNotFoundError?\n",
    "Ans:ImportError is an exception that is raised when an import statement fails to import a module. This can occur for a number of reasons, such as if the module does not exist\n",
    "or if there is a problem with the module's code.\n",
    "\n",
    "ModuleNotFoundError is a subclass of ImportError that is raised when an import statement fails to import a module because the module cannot be found.\n",
    "This error was introduced in Python 3.6 as a more specific error message for cases where a module could not be found."
   ]
  },
  {
   "cell_type": "code",
   "execution_count": null,
   "id": "9ab5155a-e84e-42a1-8565-57d5e5a166db",
   "metadata": {},
   "outputs": [],
   "source": [
    "Q6. List down some best practices for exception handling in python.\n",
    "Ans:Here are some best practices for exception handling in Python:\n",
    "\n",
    "Be specific with exception handling: Catch specific exceptions instead of using a generic Exception class. This will allow you to handle errors more accurately and provide better error messages to users.\n",
    "\n",
    "Use the finally block: Use the finally block to execute code that must run whether or not an exception occurs. This is useful for releasing resources like files or network connections.\n",
    "\n",
    "Handle exceptions as close to the source as possible: Handle exceptions as close to the source of the error as possible. This will allow you to catch the exception before it propagates too far and causes more problems.\n",
    "\n",
    "Don't use exceptions for flow control: Exceptions should be used for handling errors, not for flow control. Using exceptions for flow control can make your code harder to read and debug.\n",
    "\n",
    "Use with statement for resource management: Use the with statement to automatically handle resource management. This is particularly useful for files, network connections, and other resources that need to be explicitly released.\n"
   ]
  }
 ],
 "metadata": {
  "kernelspec": {
   "display_name": "Python 3 (ipykernel)",
   "language": "python",
   "name": "python3"
  },
  "language_info": {
   "codemirror_mode": {
    "name": "ipython",
    "version": 3
   },
   "file_extension": ".py",
   "mimetype": "text/x-python",
   "name": "python",
   "nbconvert_exporter": "python",
   "pygments_lexer": "ipython3",
   "version": "3.10.8"
  }
 },
 "nbformat": 4,
 "nbformat_minor": 5
}
