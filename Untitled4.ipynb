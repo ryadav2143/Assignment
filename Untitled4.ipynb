{
 "cells": [
  {
   "cell_type": "code",
   "execution_count": 15,
   "id": "d6ced146-4d15-4258-a18c-4a0a066e8c4f",
   "metadata": {},
   "outputs": [
    {
     "data": {
      "text/plain": [
       "'Machine Learning'"
      ]
     },
     "execution_count": 15,
     "metadata": {},
     "output_type": "execute_result"
    }
   ],
   "source": [
    "Q1. Write a code to print the data present in the second row of the dataframe, df?\n",
    "Ans:\n",
    "import pandas as pd\n",
    "course_name = ['Data Science', 'Machine Learning',' Big Data',' Data Engineer']\n",
    "duration = [2,3,6,4]\n",
    "df = pd.DataFrame(data = {'course_name' : course_name, 'duration' : duration})\n",
    "df.loc[1,'course_name']"
   ]
  },
  {
   "cell_type": "code",
   "execution_count": null,
   "id": "5f5432c6-c501-4e26-a63d-eecd10ff11fd",
   "metadata": {},
   "outputs": [],
   "source": [
    "Q2. What is the difference between the functions loc and iloc in pandas.DataFrame?\n",
    "Ans:\n",
    "1.loc: This attribute allows you to access a group of rows and columns by labels. It uses labels (index and column names) to locate data.\n",
    "The syntax for using loc is df.loc[row_label, column_label].\n",
    "\n",
    "import pandas as pd\n",
    "\n",
    "data = {'A': [1, 2, 3], 'B': [4, 5, 6]}\n",
    "df = pd.DataFrame(data, index=['row1', 'row2', 'row3'])\n",
    "\n",
    "value = df.loc['row2', 'B']  # Accessing the value at row 'row2' and column 'B'\n",
    "\n",
    "Use loc when you want to access data by using labels (row and column names).\n",
    "\n",
    "2.iloc: This attribute allows you to access a group of rows and columns by integer-based positions. It uses integer positions to locate data. \n",
    "The syntax for using iloc is df.iloc[row_index, column_index].\n",
    "\n",
    "value = df.iloc[1, 1]  # Accessing the value at row index 1 and column index 1\n",
    "Use iloc when you want to access data by using integer-based positions.\n",
    "\n"
   ]
  },
  {
   "cell_type": "code",
   "execution_count": null,
   "id": "6e123509-7c27-4fd8-9740-4decf9b18f4a",
   "metadata": {},
   "outputs": [],
   "source": [
    "Q3. Reindex the given dataframe using a variable, reindex = [3,0,1,2] and store it in the variable, new_df\n",
    "then find the output for both new_df.loc[2] and new_df.iloc[2]?"
   ]
  },
  {
   "cell_type": "code",
   "execution_count": 7,
   "id": "30add0ff-840f-4110-8c1b-7fa2e22b26b0",
   "metadata": {},
   "outputs": [
    {
     "name": "stdout",
     "output_type": "stream",
     "text": [
      "course_name    Big Data\n",
      "duration              6\n",
      "Name: 2, dtype: object\n",
      "course_name    Machine Learning\n",
      "duration                      3\n",
      "Name: 1, dtype: object\n"
     ]
    }
   ],
   "source": [
    "Q3. Reindex the given dataframe using a variable, reindex = [3,0,1,2] and store it in the variable, new_df\n",
    "then find the output for both new_df.loc[2] and new_df.iloc[2]?\n",
    "Ans:\n",
    "import pandas as pd\n",
    "course_name = ['Data Science', 'Machine Learning',' Big Data',' Data Engineer']\n",
    "duration = [2,3,6,4]\n",
    "df = pd.DataFrame(data = {'course_name' : course_name, 'duration' : duration})\n",
    "reind=[3,0,1,2]\n",
    "new =df.reindex(reind)\n",
    "output_loc = new_df.loc[2]\n",
    "output_iloc = new_df.iloc[2]\n",
    "\n",
    "print(output_loc)\n",
    "print(output_iloc)\n",
    "\n",
    "explaination:\n",
    "Yes,iloc perform on internal indexing and loc is performing on the basis of new index that we provide\n"
   ]
  },
  {
   "cell_type": "code",
   "execution_count": 12,
   "id": "9aebd419-a4f0-4fc6-b244-c903f66ec15b",
   "metadata": {},
   "outputs": [
    {
     "name": "stdout",
     "output_type": "stream",
     "text": [
      "column_1    0.673969\n",
      "column_2    0.424987\n",
      "column_3    0.432023\n",
      "column_4    0.381748\n",
      "column_5    0.333838\n",
      "column_6    0.639287\n",
      "dtype: float64\n",
      "0.21372896202014466\n"
     ]
    }
   ],
   "source": [
    "Q4. Write a code to find the following statistical measurements for the above dataframe df1:\n",
    "(i) mean of each and every column present in the dataframe.\n",
    "(ii) standard deviation of column, ‘column_2’?\n",
    "Ans:\n",
    "import pandas as pd\n",
    "import numpy as np\n",
    "columns = ['column_1', 'column_2', 'column_3', 'column_4', 'column_5', 'column_6']\n",
    "indices = [1,2,3,4,5,6]\n",
    "#Creating a dataframe:\n",
    "df1 = pd.DataFrame(np.random.rand(6,6), columns = columns, index = indices)\n",
    "print(df1.mean())\n",
    "print(df1['column_2'].std())"
   ]
  },
  {
   "cell_type": "code",
   "execution_count": null,
   "id": "69b866db-f56e-411d-8c9b-3b75cf3fb0d2",
   "metadata": {},
   "outputs": [],
   "source": [
    "Q5. Replace the data present in the second row of column, ‘column_2’ by a string variable then find the\n",
    "mean of column, column_2.\n",
    "If you are getting errors in executing it then explain why.\n",
    "[Hint: To replace the data use df1.loc[] and equate this to string data of your choice.]\n",
    "Ans:\n",
    "import pandas as pd\n",
    "import numpy as np\n",
    "columns = ['column_1', 'column_2', 'column_3', 'column_4', 'column_5', 'column_6']\n",
    "indices = [1,2,3,4,5,6]\n",
    "df1 = pd.DataFrame(np.random.rand(6,6), columns = columns, index = indices)\n",
    "string = \"Roshan\"\n",
    "df1.loc[2,'column_2'] = string\n",
    "ddf = df1['column_2'].mean()\n",
    "ddf\n",
    "\n",
    "explaination:\n",
    "yes,i am getting error because in string we cannot not perform the + operation with string\n"
   ]
  },
  {
   "cell_type": "code",
   "execution_count": null,
   "id": "2363c749-cc99-4215-af9d-7235d8a7fb87",
   "metadata": {},
   "outputs": [],
   "source": [
    "Q6. What do you understand about the windows function in pandas and list the types of windows\n",
    "functions?\n",
    "Ans:\n",
    "In pandas, a window function, also known as a rolling or moving function, is a computational operation that operates on a specified subset of data\n",
    "points within a defined window or range. Window functions are commonly used for time-series data and other ordered data where you want to perform\n",
    "calculations over a moving interval. These functions allow you to analyze trends, patterns, and perform calculations that involve a sliding window \n",
    "of data points.\n",
    "\n",
    "Some commonly used types of window functions in pandas include:\n",
    "\n",
    "1.rolling(): This function creates a rolling view of a specified column and then allows you to apply various aggregation functions over a defined\n",
    "window size. For example, rolling().mean() calculates the rolling mean over the specified window.\n",
    "\n",
    "2.expanding(): This function computes the expanding window statistics, where the window size increases with each step. It calculates cumulative \n",
    "statistics such as the cumulative sum or mean.\n",
    "\n",
    "3.ewm(): The Exponential Moving Window function is used to compute exponential moving averages, which give more weight to recent values while\n",
    "decreasing the influence of older values. It's often used in financial and time-series analysis.\n",
    "\n",
    "4.apply(): Although not a dedicated window function, the apply() function can be used in combination with rolling() or expanding() to apply custom\n",
    "functions to the rolling or expanding windows.\n",
    "\n",
    "5.aggregate() / agg(): These functions allow you to perform multiple aggregations simultaneously on the rolling or expanding windows. You can pass\n",
    "a dictionary to specify different aggregation functions for different columns.\n",
    "\n",
    "6.transform(): This function can be used with rolling() and expanding() to apply transformations to the data within the defined window. It returns\n",
    "an output with the same shape as the input."
   ]
  },
  {
   "cell_type": "code",
   "execution_count": 1,
   "id": "3d896e2e-4f39-48cc-8cce-d5f3b8956dbe",
   "metadata": {},
   "outputs": [
    {
     "name": "stdout",
     "output_type": "stream",
     "text": [
      "   Month  Year\n",
      "0      8  2023\n"
     ]
    },
    {
     "name": "stderr",
     "output_type": "stream",
     "text": [
      "/tmp/ipykernel_126/1291230903.py:4: FutureWarning: The pandas.datetime class is deprecated and will be removed from pandas in a future version. Import from datetime module instead.\n",
      "  current_datetime = pd.datetime.now()\n"
     ]
    }
   ],
   "source": [
    "Q7. Write a code to print only the current month and year at the time of answering this question.\n",
    "[Hint: Use pandas.datetime function]\n",
    "Ans:\n",
    "import pandas as pd\n",
    "current_datetime = pd.datetime.now()\n",
    "current_month = current_datetime.month\n",
    "current_year = current_datetime.year\n",
    "data = {'Month': [current_month], 'Year': [current_year]}\n",
    "df = pd.DataFrame(data)\n",
    "print(df)\n"
   ]
  },
  {
   "cell_type": "code",
   "execution_count": 3,
   "id": "d75c4c0d-0462-478e-bdc9-b68c930a0d46",
   "metadata": {},
   "outputs": [
    {
     "name": "stdin",
     "output_type": "stream",
     "text": [
      "Enter the start date (YYYY-MM-DD):  2023-12-20\n",
      "Enter the end date (YYYY-MM-DD):  2023-12-26\n"
     ]
    },
    {
     "name": "stdout",
     "output_type": "stream",
     "text": [
      "Difference between the two dates:\n",
      "Days: 6 days\n",
      "Hours: 0 hours\n",
      "Minutes: 0 minutes\n"
     ]
    }
   ],
   "source": [
    "Q8. Write a Python program that takes in two dates as input (in the format YYYY-MM-DD) and\n",
    "calculates the difference between them in days, hours, and minutes using Pandas time delta. The\n",
    "program should prompt the user to enter the dates and display the result?\n",
    "Ans:\n",
    "import pandas as pd\n",
    "\n",
    "def calculate_time_difference(start_date, end_date):\n",
    "    start_datetime = pd.to_datetime(start_date)\n",
    "    end_datetime = pd.to_datetime(end_date)\n",
    "    \n",
    "    time_difference = end_datetime - start_datetime\n",
    "    days = time_difference.days\n",
    "    hours = time_difference.seconds // 3600\n",
    "    minutes = (time_difference.seconds % 3600) // 60\n",
    "    \n",
    "    return days, hours, minutes\n",
    "\n",
    "start_date = input(\"Enter the start date (YYYY-MM-DD): \")\n",
    "end_date = input(\"Enter the end date (YYYY-MM-DD): \")\n",
    "\n",
    "days, hours, minutes = calculate_time_difference(start_date, end_date)\n",
    "\n",
    "print(f\"Difference between the two dates:\")\n",
    "print(f\"Days: {days} days\")\n",
    "print(f\"Hours: {hours} hours\")\n",
    "print(f\"Minutes: {minutes} minutes\")\n"
   ]
  },
  {
   "cell_type": "code",
   "execution_count": null,
   "id": "31571b58-afb1-412f-b764-e716ef159a54",
   "metadata": {},
   "outputs": [],
   "source": [
    "Q9. Write a Python program that reads a CSV file containing categorical data and converts a specified\n",
    "column to a categorical data type. The program should prompt the user to enter the file path, column\n",
    "name, and category order, and then display the sorted data?\n",
    "Ans:\n",
    "import pandas as pd\n",
    "\n",
    "file_path = input(\"Enter the CSV file path: \")\n",
    "column_name = input(\"Enter the column name to convert: \")\n",
    "category_order = input(\"Enter the desired category order (comma-separated): \").split(',')\n",
    "\n",
    "# Read the CSV file\n",
    "data = pd.read_csv(file_path)\n",
    "\n",
    "# Convert the specified column to a categorical data type with specified category order\n",
    "data[column_name] = pd.Categorical(data[column_name], categories=category_order, ordered=True)\n",
    "\n",
    "# Sort the data based on the specified column\n",
    "sorted_data = data.sort_values(by=column_name)\n",
    "\n",
    "# Display the sorted data\n",
    "print(\"Sorted Data:\")\n",
    "print(sorted_data)\n"
   ]
  },
  {
   "cell_type": "code",
   "execution_count": null,
   "id": "e1ded96f-5121-4bdd-8bff-f895112818d7",
   "metadata": {},
   "outputs": [],
   "source": [
    "Q10. Write a Python program that reads a CSV file containing sales data for different products and\n",
    "visualizes the data using a stacked bar chart to show the sales of each product category over time. The\n",
    "program should prompt the user to enter the file path and display the chart?\n",
    "Ans:\n",
    "import pandas as pd\n",
    "import matplotlib.pyplot as plt\n",
    "\n",
    "# Get input from the user\n",
    "file_path = input(\"Enter the CSV file path: \")\n",
    "data = pd.read_csv(file_path)\n",
    "\n",
    "data['Date'] = pd.to_datetime(data['Date'])\n",
    "\n",
    "# Pivot the data to create a pivot table\n",
    "pivot_data = data.pivot_table(index='Date', columns='Product_Category', values='Sales', aggfunc='sum')\n",
    "\n",
    "# Create a stacked bar chart\n",
    "pivot_data.plot(kind='bar', stacked=True, figsize=(10, 6))\n",
    "\n",
    "# Add labels and title\n",
    "plt.xlabel('Date')\n",
    "plt.ylabel('Sales')\n",
    "plt.title('Sales of Product Categories Over Time')\n",
    "\n",
    "# Show the chart\n",
    "plt.show()\n"
   ]
  },
  {
   "cell_type": "code",
   "execution_count": null,
   "id": "e93448c9-e708-45d8-a6b2-c5c106819b33",
   "metadata": {},
   "outputs": [],
   "source": [
    "Q11. You are given a CSV file containing student data that includes the student ID and their test score. Write\n",
    "a Python program that reads the CSV file, calculates the mean, median, and mode of the test scores, and\n",
    "displays the results in a table?\n",
    "Ans:\n",
    "import pandas as pd\n",
    "from statistics import mean, median, mode\n",
    "file_path = input(\"Enter the CSV file path: \")\n",
    "\n",
    "data = pd.read_csv('file_path')\n",
    "\n",
    "mean_score = mean(data['Test_Score'])\n",
    "median_score = median(data['Test_Score'])\n",
    "try:\n",
    "    mode_score = mode(data['Test_Score'])\n",
    "except StatisticsError:\n",
    "    mode_score = \"No unique mode\"\n",
    "\n",
    "# Create a table to display results\n",
    "results = {\n",
    "    'Statistic': ['Mean', 'Median', 'Mode'],\n",
    "    'Value': [mean_score, median_score, mode_score]\n",
    "}\n",
    "results_df = pd.DataFrame(results)\n",
    "\n",
    "print(results_df)\n"
   ]
  },
  {
   "cell_type": "code",
   "execution_count": null,
   "id": "d163bace-d112-47f5-9bb4-e7c3ca24c269",
   "metadata": {},
   "outputs": [],
   "source": []
  }
 ],
 "metadata": {
  "kernelspec": {
   "display_name": "Python 3 (ipykernel)",
   "language": "python",
   "name": "python3"
  },
  "language_info": {
   "codemirror_mode": {
    "name": "ipython",
    "version": 3
   },
   "file_extension": ".py",
   "mimetype": "text/x-python",
   "name": "python",
   "nbconvert_exporter": "python",
   "pygments_lexer": "ipython3",
   "version": "3.10.8"
  }
 },
 "nbformat": 4,
 "nbformat_minor": 5
}
