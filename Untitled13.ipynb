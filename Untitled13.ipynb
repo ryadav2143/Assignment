{
 "cells": [
  {
   "cell_type": "code",
   "execution_count": null,
   "id": "bab3741f-7337-4ffa-82b1-33b535ff2496",
   "metadata": {},
   "outputs": [],
   "source": [
    "Q1. What is an exception in python? Write a difference between exception and syntax error? \n",
    "Ans: An exception is an event, which occurs during the execution of a program that disrupts the normal flow of the program's instructions.\n",
    "In general, when a Python script encounters a situation that it cannot cope with, it raises an exception. An exception is a Python object\n",
    "that represents an error.\n",
    "\n",
    "A syntax error occurs when the structure of a program does not conform to the rules of the programming language. Syntax errors are usually detected \n",
    "by the compiler or interpreter when the program is being compiled or executed, and they prevent the program from running.\n",
    "Syntax errors are usually caused by mistakes in the source code, such as typos, omissions, or incorrect use of syntax.\n",
    "\n",
    "An exception is an abnormal event that occurs during the execution of a program. Exceptions are usually caused by runtime errors,\n",
    "such as dividing by zero, trying to access an element in an array with an out-of-bounds index, or trying to access a file that does not exist.\n",
    "Exceptions are not syntax errors, but they can still prevent the program from running if they are not handled properly."
   ]
  },
  {
   "cell_type": "code",
   "execution_count": null,
   "id": "93cf6ac0-3d2c-469b-9a5c-4d3818361e48",
   "metadata": {},
   "outputs": [],
   "source": [
    "Q2. What happens when  an exception is not handled? Explain with an example?\n",
    "Ans:When an exception occurred, if you don’t handle it, the program terminates abruptly and the code past the line that caused the exception\n",
    "will not get executed.\n",
    "Example:\n",
    "Generally, an array is of fixed size and each element is accessed using the indices. For example, we have created an array with size 7.\n",
    "Then the valid expressions to access the elements of this array will be a[0] to a[6] (length-1).\n",
    "Whenever, you used an –ve value or, the value greater than or equal to the size of the array, then the ArrayIndexOutOfBoundsException is thrown."
   ]
  },
  {
   "cell_type": "code",
   "execution_count": null,
   "id": "1316f2ba-ca12-4b73-8acf-a2adeec5ae44",
   "metadata": {},
   "outputs": [],
   "source": [
    "Q3. which python statement is used to catch and handle exception in python?\n",
    "Ans:In Python, we catch exceptions and handle them using try and except code blocks. The try clause contains the code that can raise an exception,\n",
    "while the except clause contains the code lines that handle the exception.\n",
    "Let's see if we can access the index from the array, which is more than the array's length, and handle the resulting exception.\n",
    "\n",
    "Code:   \n",
    "a = [\"Python\", \"Exceptions\", \"try and except\"]  \n",
    "try:  \n",
    "     for i in range( 4 ):  \n",
    "        print( \"The index and element from the array is\", i, a[i] )  \n",
    "except:  \n",
    "    print (\"Index out of range\")  "
   ]
  },
  {
   "cell_type": "code",
   "execution_count": 1,
   "id": "f5a272db-0ce9-4053-a99c-79e2657a8ac0",
   "metadata": {},
   "outputs": [
    {
     "name": "stdout",
     "output_type": "stream",
     "text": [
      "I am from Uttar pradesh\n",
      "but i am living in Shambhaji Nagar\n"
     ]
    }
   ],
   "source": [
    "Q4. Explain with example?\n",
    "Ans:Try Else\n",
    "You can use the else keyword to define a block of code to be executed if no errors were raised.\n",
    "Ex:\n",
    "    \n",
    "try :\n",
    "    print(\"I am from Uttar pradesh\")\n",
    "except Exception as e:\n",
    "    print(\"It is wrong info\",e)\n",
    "else :\n",
    "    print(\"but i am living in Shambhaji Nagar\")"
   ]
  },
  {
   "cell_type": "code",
   "execution_count": 2,
   "id": "654b093b-da6a-4ef1-8aa7-7a48a915542d",
   "metadata": {},
   "outputs": [
    {
     "name": "stdout",
     "output_type": "stream",
     "text": [
      "it is wrong name 'x' is not defined\n",
      "then also it will execute\n"
     ]
    }
   ],
   "source": [
    "Try Finally\n",
    "The finally block, if specified, will be executed regardless if the try block raises an error or not.\n",
    "Ex:\n",
    "    \n",
    "try :\n",
    "    print(x)\n",
    "except Exception as e:\n",
    "    print(\"it is wrong\",e)\n",
    "finally:\n",
    "    print(\"then also it will execute\")"
   ]
  },
  {
   "cell_type": "code",
   "execution_count": 4,
   "id": "a8f51d3d-c7da-48ea-9d85-c7d72a255d38",
   "metadata": {},
   "outputs": [],
   "source": [
    "raise \n",
    "he raise keyword is used to raise an exception.\n",
    "You can define what kind of error to raise, and the text to print to the user.\n",
    "\n",
    "class validage(Exception):\n",
    "    def __init__(self,msg):\n",
    "        self.msg=msg\n",
    "        "
   ]
  },
  {
   "cell_type": "code",
   "execution_count": 5,
   "id": "a0c9cc1f-f868-4473-8468-b867381eca16",
   "metadata": {},
   "outputs": [],
   "source": [
    "def validagee(age):\n",
    "    if age<0:\n",
    "        raise validage(\"age is never negative\")\n",
    "    elif age>100:\n",
    "        raise validage(\"age is min 100 to 150 \")\n",
    "    else :\n",
    "        raise validage(\"age is valid\")"
   ]
  },
  {
   "cell_type": "code",
   "execution_count": 10,
   "id": "9fcf53e1-be32-40fd-a9ee-83b959114a1f",
   "metadata": {},
   "outputs": [
    {
     "name": "stdin",
     "output_type": "stream",
     "text": [
      "Enter the age 220\n"
     ]
    },
    {
     "name": "stdout",
     "output_type": "stream",
     "text": [
      "age is min 100 to 150 \n"
     ]
    }
   ],
   "source": [
    "try :\n",
    "    age=int(input(\"Enter the age\"))\n",
    "    validagee(age)\n",
    "except validage as e:\n",
    "    print(e)"
   ]
  },
  {
   "cell_type": "code",
   "execution_count": 2,
   "id": "ebc73875-059e-48c6-a28c-6367d03db8a7",
   "metadata": {},
   "outputs": [
    {
     "ename": "IndentationError",
     "evalue": "unindent does not match any outer indentation level (<tokenize>, line 9)",
     "output_type": "error",
     "traceback": [
      "\u001b[0;36m  File \u001b[0;32m<tokenize>:9\u001b[0;36m\u001b[0m\n\u001b[0;31m    def __init__(self,msg):\u001b[0m\n\u001b[0m    ^\u001b[0m\n\u001b[0;31mIndentationError\u001b[0m\u001b[0;31m:\u001b[0m unindent does not match any outer indentation level\n"
     ]
    }
   ],
   "source": [
    "Q5. What are custom exception in python? Why we need custom exception ?write with one example?\n",
    "Ans: To create a custom exception class, you define a class that inherits from the built-in Exception class or one of its subclasses\n",
    "such as ValueError class.To raise the CustomException, you use the raise statement.\n",
    "Following are few of the reasons to use custom exceptions:\n",
    "        To catch and provide specific treatment to a subset of existing python exceptions.\n",
    "        Business logic exceptions: These are the exceptions related to business logic and workflow.\n",
    "Example:\n",
    "     class validage(Exception):\n",
    "    def __init__(self,msg):\n",
    "        self.msg=msg\n",
    "        \n",
    "    def validagee(age):\n",
    "    if age<0:\n",
    "        raise validage(\"age is never negative\")\n",
    "    elif age>100:\n",
    "        raise validage(\"age is min 100 to 150 \")\n",
    "    else :\n",
    "        raise validage(\"age is valid\")\n",
    "        \n",
    "    try :\n",
    "    age=int(input(\"Enter the age\"))\n",
    "       validagee(age)\n",
    "except validage as e:\n",
    "    print(e)\n",
    "        "
   ]
  },
  {
   "cell_type": "code",
   "execution_count": null,
   "id": "ed1ca124-d361-42f3-a3f5-3a5b8bffcbba",
   "metadata": {},
   "outputs": [],
   "source": [
    "Q6. Create a custom exception class. Use this class to handle an exception?\n",
    "Ans:\n",
    "    class validage(Exception):\n",
    "    def __init__(self,msg):\n",
    "        self.msg=msg\n",
    "        \n",
    "    def validagee(age):\n",
    "    if age<0:\n",
    "        raise validage(\"age is never negative\")\n",
    "    elif age>100:\n",
    "        raise validage(\"age is min 100 to 150 \")\n",
    "    else :\n",
    "        raise validage(\"age is valid\")\n",
    "        \n",
    "    try :\n",
    "    age=int(input(\"Enter the age\"))\n",
    "       validagee(age)\n",
    "except validage as e:\n",
    "    print(e)\n",
    "        "
   ]
  }
 ],
 "metadata": {
  "kernelspec": {
   "display_name": "Python 3 (ipykernel)",
   "language": "python",
   "name": "python3"
  },
  "language_info": {
   "codemirror_mode": {
    "name": "ipython",
    "version": 3
   },
   "file_extension": ".py",
   "mimetype": "text/x-python",
   "name": "python",
   "nbconvert_exporter": "python",
   "pygments_lexer": "ipython3",
   "version": "3.10.8"
  }
 },
 "nbformat": 4,
 "nbformat_minor": 5
}
