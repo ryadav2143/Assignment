{
 "cells": [
  {
   "cell_type": "code",
   "execution_count": null,
   "id": "3e7dedca-ad6a-4d80-9b38-38d8f133b455",
   "metadata": {},
   "outputs": [],
   "source": [
    "Q1. What is Flask Framework? What are the advantages of Flask Framework?\n",
    "Ans:\n",
    "    Flask is a micro web framework for Python, designed to make it easy to build web applications quickly and with minimal overhead. It's considered\n",
    "    \"micro\" because it provides only the essentials needed to build a web application, allowing developers the flexibility to choose their tools and\n",
    "    libraries for various components. Flask follows the WSGI (Web Server Gateway Interface) standard and is often used for developing small to \n",
    "    medium-sized web applications, APIs, and prototypes.\n",
    "\n",
    "Advantages of Flask Framework:\n",
    "Lightweight and Minimalistic: Flask is designed to be simple and lightweight, allowing developers to start with the basics and add only the \n",
    "components they need. This makes it easy to understand and work with, especially for beginners.\n",
    "\n",
    "Flexibility: Flask doesn't impose a particular way of doing things, which gives developers the freedom to structure their application according\n",
    "to their preferences. You can choose the libraries, databases, and other tools that fit your project's requirements.\n",
    "\n",
    "Extensibility: Flask provides a rich ecosystem of extensions that can be easily integrated into your application. These extensions cover a wide\n",
    "range of functionalities, such as authentication, database integration, form handling, and more.\n",
    "\n",
    "Built-in Development Server: Flask comes with a built-in development server that simplifies the testing and debugging process during the development\n",
    "phase.\n",
    "\n",
    "URL Routing: Flask provides a simple way to define URL routes and associate them with specific functions, making it easy to create different pages \n",
    "and endpoints for your application.\n",
    "\n",
    "Integration with Other Libraries: Flask can be easily integrated with other Python libraries and tools, enabling developers to leverage existing \n",
    "solutions for various aspects of their application.\n",
    "\n",
    "Scalability: While Flask is often associated with smaller projects, it's possible to scale Flask applications by integrating with more advanced \n",
    "tools and techniques as your project grows."
   ]
  },
  {
   "cell_type": "code",
   "execution_count": 4,
   "id": "d3f82492-c8ed-4c41-8ee7-9f30cfc52487",
   "metadata": {},
   "outputs": [
    {
     "data": {
      "text/plain": [
       "'flask.png'"
      ]
     },
     "execution_count": 4,
     "metadata": {},
     "output_type": "execute_result"
    }
   ],
   "source": [
    "Q2. Create a simple Flask application to display ‘Hello World!!’. Attach the screenshot of the output in\n",
    "Jupyter Notebook?\n",
    "Ans:\n",
    "frin flask import Flask\n",
    "\n",
    "app = Flask(__name__)\n",
    "\n",
    "@app.route(\"/\")\n",
    "def hello_world():\n",
    "    return \"<h1>HELLO,WORLD!</h1>\"\n",
    "\n",
    "if __name__==\"__main__\":\n",
    "    app.run(host=0.0.0.0\")"
   ]
  },
  {
   "cell_type": "markdown",
   "id": "1fb3dea4-9244-4bf6-8477-c94db6e5fb46",
   "metadata": {},
   "source": [
    "<img src='flask.png' style='width=150px'>"
   ]
  },
  {
   "cell_type": "code",
   "execution_count": null,
   "id": "fb582b36-636c-4a77-b345-044fb5ae391c",
   "metadata": {},
   "outputs": [],
   "source": [
    "Q3.What is App routing in Flask? Why do we use app routes?\n",
    "Ans:\n",
    "In Flask, app routing refers to the process of mapping URLs (Uniform Resource Locators) to specific functions or view handlers within your \n",
    "web application. It allows you to define how different URLs should be handled and what content or actions should be displayed or performed \n",
    "when a user visits a particular URL.\n",
    "App routing is a fundamental concept in web development, and Flask provides a simple and elegant way to implement it through the use of decorators.\n",
    "Decorators are special Python functions that modify the behavior of other functions. In Flask, decorators are used to associate URL patterns with \n",
    "specific view functions.\n",
    "\n",
    "App routes are used for several reasons:\n",
    "URL Mapping: App routes allow you to map specific URLs to corresponding functions, making it easy to organize and structure your application's \n",
    "content and functionality.\n",
    "\n",
    "Page Rendering: You can use app routes to render HTML templates and display dynamic content to users based on the URL they visit. This is crucial\n",
    "for creating web pages with different views and data.\n",
    "\n",
    "API Endpoints: In addition to rendering web pages, app routes can also be used to define API endpoints that respond to requests with JSON or other\n",
    "data formats. This is common when building web services and RESTful APIs.\n",
    "\n",
    "User Interaction: App routes enable user interaction by providing different URLs for users to access different parts of your application or perform\n",
    "specific actions.\n",
    "\n",
    "Clean Code Organization: By using app routes, you can keep your codebase organized and maintain a clear separation of concerns, as each route \n",
    "corresponds to a specific feature or page in your application.\n",
    "\n",
    "SEO and User Experience: Well-organized app routes can improve search engine optimization (SEO) by creating meaningful URLs and enhance the user\n",
    "experience by providing logical navigation paths."
   ]
  },
  {
   "cell_type": "code",
   "execution_count": 9,
   "id": "51096da8-60e6-4004-b2f2-72106eb0df5b",
   "metadata": {},
   "outputs": [
    {
     "data": {
      "text/plain": [
       "'flask1'"
      ]
     },
     "execution_count": 9,
     "metadata": {},
     "output_type": "execute_result"
    }
   ],
   "source": [
    "Q4. Create a “/welcome” route to display the welcome message “Welcome to ABC Corporation” and a “/”\n",
    "route to show the following details:\n",
    "Company Name: ABC Corporation\n",
    "Location: India\n",
    "Contact Detail: 999-999-9999\n",
    "Ans:\n",
    "from flask import Flask\n",
    "\n",
    "app= Flask(__name__)\n",
    "app.route(\"/\")\n",
    "def message():\n",
    "    dic = {\"Company Name\": \"ABC Corporation\"\n",
    "           \"Location\":\"India\"\n",
    "           \"Detail\": 999-999-9999 }\n",
    "    return dic\n",
    "\n",
    "@app.route(\"/welcome\")\n",
    "def welcome():\n",
    "    return \"<h1>Welcome to ABC Corporation</h1>\"\n",
    "\n",
    "if __name__==\"__main__\":\n",
    "    app.run(host=\"0.0.0.0\")"
   ]
  },
  {
   "cell_type": "markdown",
   "id": "e9873eef-2b61-4bb8-9b17-a7c3b25b1836",
   "metadata": {},
   "source": [
    "<img src=\"flask1.png\" style=\"width:1000px\">"
   ]
  },
  {
   "cell_type": "code",
   "execution_count": null,
   "id": "fc56fe62-3acf-4cda-8633-d9757aafa822",
   "metadata": {},
   "outputs": [],
   "source": [
    "Q5. What function is used in Flask for URL Building? Write a Python code to demonstrate the working of the\n",
    "url_for() function?\n",
    "Ans:\n",
    "    In Flask, the url_for() function is used for URL building. It generates a URL for a given endpoint (view function) and can also handle URL\n",
    "    parameters, making it easier to create URLs dynamically without hardcoding them in your templates or code. This is particularly useful\n",
    "    because if you change the URL structure in the future, you only need to update the url_for() calls rather than manually changing each URL \n",
    "    throughout your application.\n",
    " \n",
    "Python code to demonstrate the working of the url_for() function:\n",
    "\n",
    "from flask import Flask, url_for\n",
    "\n",
    "app = Flask(__name__)\n",
    "\n",
    "@app.route('/')\n",
    "def home():\n",
    "    return 'Welcome to the homepage!'\n",
    "\n",
    "@app.route('/about')\n",
    "def about():\n",
    "    return 'This is the about page.'\n",
    "\n",
    "@app.route('/user/<username>')\n",
    "def profile(username):\n",
    "    return f'Hello, {username}!'\n",
    "\n",
    "if __name__ == '__main__':\n",
    "    with app.test_request_context():\n",
    "        print(url_for('home'))          \n",
    "        print(url_for('about'))         \n",
    "        print(url_for('profile', username='john'))  \n"
   ]
  }
 ],
 "metadata": {
  "kernelspec": {
   "display_name": "Python 3 (ipykernel)",
   "language": "python",
   "name": "python3"
  },
  "language_info": {
   "codemirror_mode": {
    "name": "ipython",
    "version": 3
   },
   "file_extension": ".py",
   "mimetype": "text/x-python",
   "name": "python",
   "nbconvert_exporter": "python",
   "pygments_lexer": "ipython3",
   "version": "3.10.8"
  }
 },
 "nbformat": 4,
 "nbformat_minor": 5
}
