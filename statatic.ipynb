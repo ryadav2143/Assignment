{
 "cells": [
  {
   "cell_type": "code",
   "execution_count": null,
   "id": "6ee50201-80de-4289-8b2a-810343ec8368",
   "metadata": {},
   "outputs": [],
   "source": [
    "Q1. What is the Probability density function?\n",
    "Ans:\n",
    "    The Probability Density Function (PDF) is a fundamental concept in probability and statistics. It is used to describe\n",
    "    the probability distribution of a continuous random variable. In simpler terms, it tells us the likelihood of a continuous\n",
    "    random variable taking on a specific value within a certain range.\n",
    "\n",
    "Mathematically, the PDF of a continuous random variable X is denoted as f(x) and is defined such that for any two values a \n",
    "and b (where a ≤ b):\n",
    "P(a≤X≤b)=∫f(x)dx"
   ]
  },
  {
   "cell_type": "code",
   "execution_count": null,
   "id": "7426f2cf-9f1a-4f8a-86ad-482ffbe828a3",
   "metadata": {},
   "outputs": [],
   "source": [
    "Q2. What are the types of Probability distribution?\n",
    "Ans:\n",
    "Continuous Probability Distributions:\n",
    "\n",
    "a. Normal Distribution (Gaussian Distribution): The normal distribution is symmetric and bell-shaped. It's commonly used to model \n",
    "naturally occurring phenomena, such as heights, test scores, and measurement errors. The parameters are mean (μ) and standard deviation (σ).\n",
    "\n",
    "b. Uniform Distribution: In a uniform distribution, all values within a specified range have equal probability. It's often used when \n",
    "all outcomes in a range are equally likely.\n",
    "\n",
    "Discrete Probability Distributions:\n",
    "\n",
    "a. Bernoulli Distribution: The Bernoulli distribution models a binary outcome (success/failure) with a fixed probability of success (p).\n",
    "It's used in trials with two possible outcomes.\n",
    "\n",
    "b. Binomial Distribution: The binomial distribution is used when there are a fixed number of independent Bernoulli trials. It models the number\n",
    "of successes in a fixed number of trials.\n",
    "\n",
    "c. Poisson Distribution: The Poisson distribution is used to model the number of events occurring within a fixed interval of time or space.\n",
    "It's often used in scenarios involving rare events, such as phone call arrivals or defects in a product.\n"
   ]
  },
  {
   "cell_type": "code",
   "execution_count": 1,
   "id": "da5a9e2d-a47b-4d45-889b-09c77e61b0e6",
   "metadata": {},
   "outputs": [
    {
     "name": "stdout",
     "output_type": "stream",
     "text": [
      "The PDF at x = 1.5 is 0.1295\n"
     ]
    }
   ],
   "source": [
    "Q3. Write a Python function to calculate the probability density function of a normal distribution with\n",
    "given mean and standard deviation at a given point.\n",
    "Ans:\n",
    "import scipy.stats as stats\n",
    "\n",
    "def normal_pdf(x, mean, std_dev):\n",
    "   \n",
    "    pdf_value = stats.norm.pdf(x, loc=mean, scale=std_dev)\n",
    "    return pdf_value\n",
    "mean = 0.0\n",
    "std_dev = 1.0\n",
    "x = 1.5\n",
    "pdf_at_x = normal_pdf(x, mean, std_dev)\n",
    "print(f\"The PDF at x = {x} is {pdf_at_x:.4f}\")"
   ]
  },
  {
   "cell_type": "code",
   "execution_count": null,
   "id": "67dd48c3-b660-4c9d-b586-f2a548ddb5ae",
   "metadata": {},
   "outputs": [],
   "source": [
    "Q4. What are the properties of Binomial distribution? Give two examples of events where binomial\n",
    "distribution can be applied.\n",
    "Ans:\n",
    "The binomial distribution is a discrete probability distribution that is characterized by the following properties:\n",
    "\n",
    "Fixed Number of Trials (n): The binomial distribution models a fixed number of independent and identical trials, denoted as 'n'. \n",
    "Each trial can result in one of two possible outcomes, typically referred to as \"success\" and \"failure.\"\n",
    "\n",
    "Two Possible Outcomes: Each trial can have only two possible outcomes, often denoted as \"success\" (usually with probability 'p')\n",
    "and \"failure\" (with probability 'q,' where 'q = 1 - p').\n",
    "\n",
    "Independence: The outcomes of each trial are assumed to be independent of each other. The result of one trial does not affect\n",
    "the result of another.\n",
    "\n",
    "Constant Probability of Success (p): The probability of success 'p' remains constant for each trial.\n",
    "\n",
    "Discreteness: The binomial random variable represents a count of the number of successes in 'n' trials, so it can only take on \n",
    "non-negative integer values (0, 1, 2, ...).\n",
    "\n",
    "Notation: The binomial distribution is often denoted as B(n, p), where 'n' represents the number of trials and 'p' represents \n",
    "the probability of success on each trial.\n",
    "\n",
    "Two examples of events where the binomial distribution can be applied are:\n",
    "\n",
    "Coin Flips: When flipping a fair coin multiple times (e.g., 10 coin flips), you can model the number of times it lands heads \n",
    "(success) as a binomial distribution. Here, 'n' is the number of coin flips, 'p' is the probability of getting heads (0.5 for\n",
    "a fair coin), and you can calculate the probability of getting a specific number of heads (e.g., the probability of getting \n",
    "exactly 3 heads in 10 flips).\n",
    "\n",
    "Quality Control in Manufacturing: In a manufacturing process, you may want to know the probability of a product being defective\n",
    "(a failure) when each product has a certain probability 'p' of being defective. If you inspect 'n' products, you can model the\n",
    "number of defective products as a binomial distribution. This helps in estimating the likelihood of a specific number of defects in the sample."
   ]
  },
  {
   "cell_type": "code",
   "execution_count": 4,
   "id": "1a6d071b-cad3-4958-ad02-e158473c5222",
   "metadata": {},
   "outputs": [
    {
     "data": {
      "image/png": "[encoded data removed]",
      "text/plain": [
       "<Figure size 640x480 with 1 Axes>"
      ]
     },
     "metadata": {},
     "output_type": "display_data"
    }
   ],
   "source": [
    "Q5. Generate a random sample of size 1000 from a binomial distribution with probability of success 0.4\n",
    "and plot a histogram of the results using matplotlib.\n",
    "Ans:\n",
    "import numpy as np\n",
    "import matplotlib.pyplot as plt\n",
    "n = 1000 \n",
    "p = 0.4 \n",
    "random_sample = np.random.binomial(n=1, p=p, size=n)\n",
    "plt.hist(random_sample, bins=[-0.5, 0.5, 1.5], edgecolor='black', alpha=0.7)\n",
    "plt.xticks([0, 1], ['Failure', 'Success'])\n",
    "plt.xlabel('Outcome')\n",
    "plt.ylabel('Frequency')\n",
    "plt.title('Binomial Distribution Histogram (n=1000, p=0.4)')\n",
    "plt.grid(axis='y', linestyle='--', alpha=0.7)\n",
    "plt.show()\n"
   ]
  },
  {
   "cell_type": "code",
   "execution_count": 5,
   "id": "d41f3039-2452-47a3-8ba5-25e4ccfa5208",
   "metadata": {},
   "outputs": [
    {
     "name": "stdout",
     "output_type": "stream",
     "text": [
      "The CDF at x = 2 is 0.4232\n"
     ]
    }
   ],
   "source": [
    "Q6. Write a Python function to calculate the cumulative distribution function of a Poisson distribution\n",
    "with given mean at a given point.\n",
    "Ans:\n",
    "    \n",
    "import scipy.stats as stats\n",
    "\n",
    "def poisson_cdf(x, mean):\n",
    "    cdf_value = stats.poisson.cdf(x, mu=mean)\n",
    "    return cdf_value\n",
    "mean = 3.0\n",
    "x = 2\n",
    "cdf_at_x = poisson_cdf(x, mean)\n",
    "print(f\"The CDF at x = {x} is {cdf_at_x:.4f}\")\n"
   ]
  },
  {
   "cell_type": "code",
   "execution_count": null,
   "id": "4ee0a054-d8a4-47f0-8ae2-066d76f3860b",
   "metadata": {},
   "outputs": [],
   "source": [
    "Q7. How Binomial distribution different from Poisson distribution?\n",
    "Ans:\n",
    "Number of Trials:\n",
    "Binomial: It models the number of successes in a fixed number of trials (n).\n",
    "Poisson: It models the number of events in a fixed interval of time or space, without specifying the number of trials.\n",
    "\n",
    "Outcomes per Trial:\n",
    "Binomial: Each trial has two possible outcomes (success or failure).\n",
    "Poisson: It represents the count of events in a continuous or large-scale process with a low probability of events occurring.\n",
    "\n",
    "Probability of Success:\n",
    "Binomial: It requires a fixed probability of success (p) for each trial.\n",
    "Poisson: It is characterized by the average rate or intensity of events (λ) in a continuous process.\n",
    "\n",
    "Applicability:\n",
    "Binomial: Appropriate for discrete, independent trials with a fixed number of attempts, such as coin flips or pass/fail experiments.\n",
    "Poisson: Suitable for modeling rare events or occurrences in a continuous process, like the number of accidents in a day or the number\n",
    "of customer arrivals in a minute.\n",
    "\n",
    "Shape:\n",
    "Binomial: The shape of the distribution becomes more symmetric as the number of trials increases and is often bell-shaped.\n",
    "Poisson: It is typically right-skewed and becomes more symmetric as the event rate (λ) increases."
   ]
  },
  {
   "cell_type": "code",
   "execution_count": 7,
   "id": "718ce846-f240-46fd-a748-ee5c2c193d4c",
   "metadata": {},
   "outputs": [
    {
     "name": "stdout",
     "output_type": "stream",
     "text": [
      "Sample Mean: 5.0170\n",
      "Sample Variance: 5.4607\n"
     ]
    }
   ],
   "source": [
    "Q8. Generate a random sample of size 1000 from a Poisson distribution with mean 5 and calculate the\n",
    "sample mean and variance.\n",
    "Ans:\n",
    "import numpy as np\n",
    "random_size = 1000\n",
    "mean = 5\n",
    "random_sam = np.random.poisson(lam=mean,size = random_size)\n",
    "\n",
    "sample_mean = np.mean(random_sam)\n",
    "sample_var = np.var(random_sam)\n",
    "print(f\"Sample Mean: {sample_mean:.4f}\")\n",
    "print(f\"Sample Variance: {sample_var:.4f}\")"
   ]
  },
  {
   "cell_type": "code",
   "execution_count": null,
   "id": "c7c2e4ce-efda-4f9f-bfb4-a36acbfd435f",
   "metadata": {},
   "outputs": [],
   "source": [
    "Q9. How mean and variance are related in Binomial distribution and Poisson distribution?\n",
    "Ans:\n",
    "Binomial Distribution:\n",
    "\n",
    "Mean (μ): For a Binomial distribution with parameters n (number of trials) and p (probability of success on each trial), the \n",
    "mean is given by μ = n * p.\n",
    "Variance (σ^2): The variance is given by σ^2 = n * p * (1 - p).\n",
    "\n",
    "Poisson Distribution:\n",
    "Mean (λ): For a Poisson distribution, the mean is represented by λ (lambda), which is also called the average rate or intensity of events.\n",
    "Variance (σ^2): The variance of a Poisson distribution is also equal to λ, which means σ^2 = λ."
   ]
  },
  {
   "cell_type": "code",
   "execution_count": null,
   "id": "f701efce-5a0c-47d7-998c-e30321abc14a",
   "metadata": {},
   "outputs": [],
   "source": [
    "Q10. In normal distribution with respect to mean position, where does the least frequent data appear?\n",
    "Ans:\n",
    "Left Tail (Negative Side): Data values to the left of the mean (smaller than the mean) represent the lower end of the distribution.\n",
    "These values are less frequent and become increasingly rare as they move further away from the mean to the left.\n",
    "\n",
    "Right Tail (Positive Side): Data values to the right of the mean (larger than the mean) represent the upper end of the distribution.\n",
    "Similar to the left tail, values in the right tail are less frequent and become increasingly rare as they move further away from the \n",
    "mean to the right."
   ]
  }
 ],
 "metadata": {
  "kernelspec": {
   "display_name": "Python 3 (ipykernel)",
   "language": "python",
   "name": "python3"
  },
  "language_info": {
   "codemirror_mode": {
    "name": "ipython",
    "version": 3
   },
   "file_extension": ".py",
   "mimetype": "text/x-python",
   "name": "python",
   "nbconvert_exporter": "python",
   "pygments_lexer": "ipython3",
   "version": "3.10.8"
  }
 },
 "nbformat": 4,
 "nbformat_minor": 5
}
